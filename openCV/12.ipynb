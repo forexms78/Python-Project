{
 "cells": [
  {
   "cell_type": "code",
   "execution_count": null,
   "metadata": {},
   "outputs": [],
   "source": [
    "#yolo train, valid image list\n",
    "def yolo_train_valid_image_list(train_dir='train/',\n",
    "                                valid_dir='valid/',\n",
    "                                train_file='train.txt',\n",
    "                                valid_file='valid.txt'):\n",
    "\n",
    "    import os\n",
    "\n",
    "    # Function to write image paths to a file\n",
    "    def write_image_paths(dir_path, output_file):\n",
    "        # Get all jpg files in the directory\n",
    "        image_files = [f for f in os.listdir(dir_path) if f.endswith(\".jpg\")]\n",
    "\n",
    "        # Write each file path to the output file\n",
    "        with open(output_file, \"w\") as f:\n",
    "            for image_file in image_files:\n",
    "                f.write(dir_path + image_file + \"\\n\")\n",
    "\n",
    "    # Write image paths for training and validation sets\n",
    "    write_image_paths(train_dir, train_file)\n",
    "    write_image_paths(valid_dir, valid_file)  \n",
    "\n",
    "yolo_train_valid_image_list() \n",
    "  "
   ]
  }
 ],
 "metadata": {
  "language_info": {
   "name": "python"
  }
 },
 "nbformat": 4,
 "nbformat_minor": 2
}
