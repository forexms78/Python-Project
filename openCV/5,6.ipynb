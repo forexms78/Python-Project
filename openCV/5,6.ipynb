{
 "cells": [
  {
   "cell_type": "code",
   "execution_count": null,
   "metadata": {},
   "outputs": [],
   "source": [
    "#txt파일기준으로 jpg 복사\n",
    "def yolo_copy_jpg_by_txt(\n",
    "    src_path = '[원천]상표이미지_train',\n",
    "    dst_path = 'train'):\n",
    "    import os\n",
    "    import shutil\n",
    "    \n",
    "    txt_list = os.listdir(dst_path)\n",
    "    for txt in txt_list:\n",
    "        jpg_file = txt.replace('.txt','.jpg')\n",
    "        jpg_file_path = os.path.join(src_path,txt.split('_')[0] + '_TOTAL',jpg_file)\n",
    "        try:\n",
    "            shutil.copy(jpg_file_path,dst_path) \n",
    "        except:\n",
    "            continue\n",
    "         \n",
    "\n",
    "yolo_copy_jpg_by_txt()"
   ]
  }
 ],
 "metadata": {
  "language_info": {
   "name": "python"
  }
 },
 "nbformat": 4,
 "nbformat_minor": 2
}
