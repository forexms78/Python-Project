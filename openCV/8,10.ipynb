{
 "cells": [
  {
   "cell_type": "code",
   "execution_count": null,
   "metadata": {},
   "outputs": [],
   "source": [
    "#txt 파일 매칭되는 jpg 파일 없을 시 txt 삭제 \n",
    "def check_files_and_erase_txt(directory = 'train'):\n",
    "    import os\n",
    "    # List all files in directory\n",
    "    all_files = os.listdir(directory)\n",
    "\n",
    "    # Split files into basenames and extensions\n",
    "    base_ext_pairs = [os.path.splitext(file) for file in all_files]\n",
    "\n",
    "    # Create list of jpg basenames\n",
    "    jpg_basenames = [base for base, ext in base_ext_pairs if ext == '.jpg']\n",
    "\n",
    "    # Iterate over txt files and delete if there's no corresponding jpg\n",
    "    for base, ext in base_ext_pairs:\n",
    "        if ext == '.txt' and base not in jpg_basenames:\n",
    "            os.remove(os.path.join(directory, base + ext))\n",
    "            print(f\"Removed {base + ext} as {base + '.jpg'} does not exist.\")\n",
    "\n",
    "check_files_and_erase_txt()"
   ]
  }
 ],
 "metadata": {
  "language_info": {
   "name": "python"
  }
 },
 "nbformat": 4,
 "nbformat_minor": 2
}
