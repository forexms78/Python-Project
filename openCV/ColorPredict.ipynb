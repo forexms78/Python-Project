{
 "cells": [
  {
   "cell_type": "code",
   "execution_count": 1,
   "outputs": [
    {
     "name": "stdout",
     "output_type": "stream",
     "text": [
      "The key with the maximum value is: 회색\n",
      "The maximum value is: 2.02%\n",
      "predicted color : 그 외\n"
     ]
    },
    {
     "data": {
      "text/plain": "'그 외'"
     },
     "execution_count": 1,
     "metadata": {},
     "output_type": "execute_result"
    }
   ],
   "source": [
    "\"\"\"\n",
    "이미지 파일을 opencv를 이용하여 색상을 유추하는 코드\n",
    "\n",
    "파라미터 설명\n",
    "src_path : file의 이미지가 있는 폴더\n",
    "file : 색상을 유추할 이미지의 파일명\n",
    "\n",
    "\"\"\"\n",
    "from config import lower_color_dic, upper_color_dic, percent_color_dic\n",
    "\n",
    "def predict_color_by_cv2(\n",
    "src_path = 'sample_total_41893',\n",
    "file = '010102_4020190154963_격식_화려_보라_보라.jpg'):\n",
    "    import shutil\n",
    "    import os\n",
    "    import cv2\n",
    "    import numpy as np\n",
    "\n",
    "\n",
    "    \n",
    "    #color pixel dic\n",
    "    pixel_dic = {}\n",
    "    predicted_color = '그 외' \n",
    "\n",
    "    for color,values in lower_color_dic.items():\n",
    "        #print(color,values) 빨강 [180, 0, 0]\n",
    "        \n",
    "    \n",
    "        img = cv2.imdecode(np.fromfile(os.path.join(src_path, file),dtype=np.uint8),cv2.IMREAD_UNCHANGED)\n",
    "        \n",
    "        if img is not None:\n",
    "            \n",
    "            img = cv2.cvtColor(img, cv2.COLOR_BGR2RGB)\n",
    "            lower_color = np.array(values)\n",
    "            upper_color = np.array(upper_color_dic[color])\n",
    "            #print(upper_color) [255  80  80]\n",
    "            mask = cv2.inRange(img, lower_color, upper_color)\n",
    "            num_color_pixels = np.count_nonzero(mask)\n",
    "            \n",
    "            # Calculate the total number of pixels\n",
    "            num_pixels = img.shape[0] * img.shape[1]\n",
    "\n",
    "            # Calculate the percentage of blue pixels in the image\n",
    "            selected_color_percentage = (num_color_pixels / num_pixels) * 100\n",
    "            pixel_dic[color] = selected_color_percentage\n",
    "        \n",
    "    # To find the key with the maximum value\n",
    "    max_key = max(pixel_dic, key=pixel_dic.get)\n",
    "    print(f\"The key with the maximum value is: {max_key}\")\n",
    "\n",
    "    # To find the maximum value\n",
    "    max_value = max(pixel_dic.values())\n",
    "    print(f\"The maximum value is: {max_value:.2f}%\")\n",
    "    \n",
    "    if max_key == '남색1' or max_key == '남색2':\n",
    "        if percent_color_dic[max_key] <= max_value:\n",
    "            predicted_color = '남색'\n",
    "    elif max_key == '노랑1' or max_key == '노랑2':\n",
    "        if percent_color_dic[max_key] <= max_value:\n",
    "            predicted_color = '노랑'\n",
    "    elif max_key == '보라1'or max_key == '보라2' or max_key == '보라3':\n",
    "        if percent_color_dic[max_key] <= max_value:\n",
    "            predicted_color = '보라'           \n",
    "    elif max_key == '파랑1' or max_key == '파랑2' \\\n",
    "    or max_key == '파랑3' or max_key == '파랑4' or max_key == '파랑5':\n",
    "        if percent_color_dic[max_key] <= max_value:\n",
    "            predicted_color = '파랑' \n",
    "    else:\n",
    "       if percent_color_dic[max_key] <= max_value:  \n",
    "           predicted_color = max_key \n",
    "       \n",
    "    print(f\"predicted color : {predicted_color}\")\n",
    "    \n",
    "    return predicted_color\n",
    "\n",
    "#predicted_color #예측된 색상카테고리\n",
    "predict_color_by_cv2()"
   ],
   "metadata": {
    "collapsed": false,
    "ExecuteTime": {
     "end_time": "2023-12-13T04:31:59.296854Z",
     "start_time": "2023-12-13T04:31:59.078420Z"
    }
   }
  },
  {
   "cell_type": "code",
   "execution_count": null,
   "outputs": [],
   "source": [],
   "metadata": {
    "collapsed": false
   }
  }
 ],
 "metadata": {
  "language_info": {
   "name": "python"
  },
  "kernelspec": {
   "name": "python3",
   "language": "python",
   "display_name": "Python 3 (ipykernel)"
  }
 },
 "nbformat": 4,
 "nbformat_minor": 2
}
