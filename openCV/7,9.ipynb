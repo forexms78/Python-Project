{
 "cells": [
  {
   "cell_type": "code",
   "execution_count": null,
   "metadata": {},
   "outputs": [],
   "source": [
    "#각 카테고리 이미지 겹치는거 제거 해쉬값 imagehash\n",
    "def yolo_overlapped_image_remove(image_folder = 'train',\n",
    "                overlapped_txt_path = 'overlappedlist_train.txt'):\n",
    "\n",
    "    import os\n",
    "    import cv2\n",
    "    import imagehash\n",
    "    from PIL import Image\n",
    "\n",
    "\n",
    "\n",
    "    hashes = {}\n",
    "    count_list = [] \n",
    "    for filename in os.listdir(image_folder):\n",
    "        if filename.endswith('.jpg'):  # Add other extensions if needed\n",
    "            filepath = os.path.join(image_folder, filename)\n",
    "            image = Image.open(filepath)\n",
    "            h = str(imagehash.average_hash(image))\n",
    "            \n",
    "            if h in hashes:\n",
    "                #print(f\"Duplicate found: {filename} and {hashes[h]}\")\n",
    "                os.remove(filepath)  # Remove the duplicate\n",
    "                count_list.append(filename)\n",
    "                #break \n",
    "            else:\n",
    "                hashes[h] = filename\n",
    "                \n",
    "\n",
    "\n",
    "    with open(overlapped_txt_path,'w') as f:\n",
    "        for count in count_list:\n",
    "            f.write(count + '\\n')\n",
    "    #train 282286       \n",
    "    #valid 34067 겹치는 수량 13941 최종 20126               \n",
    "    print('겹치는 수량 = ' , len(count_list))  \n",
    "\n",
    "yolo_overlapped_image_remove()\n"
   ]
  }
 ],
 "metadata": {
  "language_info": {
   "name": "python"
  }
 },
 "nbformat": 4,
 "nbformat_minor": 2
}
