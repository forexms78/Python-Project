{
  "nbformat": 4,
  "nbformat_minor": 0,
  "metadata": {
    "colab": {
      "provenance": [],
      "authorship_tag": "ABX9TyMp0nvwI2JVKSVrDwq+9UOL",
      "include_colab_link": true
    },
    "kernelspec": {
      "name": "python3",
      "display_name": "Python 3"
    },
    "language_info": {
      "name": "python"
    }
  },
  "cells": [
    {
      "cell_type": "markdown",
      "metadata": {
        "id": "view-in-github",
        "colab_type": "text"
      },
      "source": [
        "<a href=\"https://colab.research.google.com/github/forexms78/Python-Project/blob/main/250807_%EC%BD%94%EB%93%9C%EC%8B%A4%EC%8A%B5.ipynb\" target=\"_parent\"><img src=\"https://colab.research.google.com/assets/colab-badge.svg\" alt=\"Open In Colab\"/></a>"
      ]
    },
    {
      "cell_type": "markdown",
      "source": [
        "1. time 함수"
      ],
      "metadata": {
        "id": "fCMR7E7t72ra"
      }
    },
    {
      "cell_type": "code",
      "execution_count": 1,
      "metadata": {
        "colab": {
          "base_uri": "https://localhost:8080/"
        },
        "id": "gKRYUtNW7aaH",
        "outputId": "a15a5ad3-0248-467b-a78b-80a8d449db89"
      },
      "outputs": [
        {
          "output_type": "stream",
          "name": "stdout",
          "text": [
            "1754543321.4909718\n"
          ]
        }
      ],
      "source": [
        "import time\n",
        "print(time.time())"
      ]
    },
    {
      "cell_type": "code",
      "source": [
        "print(\"시작:.\", time.time())\n",
        "time.sleep(3)\n",
        "print(\"3초 후 출력: \", time.time())"
      ],
      "metadata": {
        "colab": {
          "base_uri": "https://localhost:8080/"
        },
        "id": "BYVdExvh7qQm",
        "outputId": "793a4f92-21c6-4783-f332-3cc757c3746e"
      },
      "execution_count": 2,
      "outputs": [
        {
          "output_type": "stream",
          "name": "stdout",
          "text": [
            "시작:. 1754543371.9995577\n",
            "3초 후 출력:  1754543375.000065\n"
          ]
        }
      ]
    },
    {
      "cell_type": "code",
      "source": [
        "t = time.localtime()\n",
        "print(f\"{t.tm_year} 년 {t.tm_mon} 월 {t.tm_mday} 일\")"
      ],
      "metadata": {
        "colab": {
          "base_uri": "https://localhost:8080/"
        },
        "id": "mfcedjOB71-H",
        "outputId": "e89d8b84-caff-4672-f305-58358fa58903"
      },
      "execution_count": 3,
      "outputs": [
        {
          "output_type": "stream",
          "name": "stdout",
          "text": [
            "2025 년 8 월 7 일\n"
          ]
        }
      ]
    },
    {
      "cell_type": "code",
      "source": [],
      "metadata": {
        "id": "hgFrUUwE9DtZ"
      },
      "execution_count": null,
      "outputs": []
    },
    {
      "cell_type": "code",
      "source": [
        "timestamp = time.time()\n",
        "local_time = time.localtime(timestamp)\n",
        "# 스트러프타임 지정해주는거\n",
        "formatted = time.strftime(\"%Y-%m-%d %H:%M:%S\", local_time)\n",
        "print(formatted)"
      ],
      "metadata": {
        "colab": {
          "base_uri": "https://localhost:8080/"
        },
        "id": "k-cQArFS8VZn",
        "outputId": "cced6753-71d6-4e28-d411-738fa152b97f"
      },
      "execution_count": 5,
      "outputs": [
        {
          "output_type": "stream",
          "name": "stdout",
          "text": [
            "2025-08-07 05:13:23\n"
          ]
        }
      ]
    },
    {
      "cell_type": "code",
      "source": [
        "print(time.strftime(\"%Y-%m-%d %H:%M:%S\"))"
      ],
      "metadata": {
        "colab": {
          "base_uri": "https://localhost:8080/"
        },
        "id": "ig0pspSf89vS",
        "outputId": "1d808206-4c84-4ac2-fba8-48381853f18e"
      },
      "execution_count": 7,
      "outputs": [
        {
          "output_type": "stream",
          "name": "stdout",
          "text": [
            "2025-08-07 05:15:25\n"
          ]
        }
      ]
    },
    {
      "cell_type": "code",
      "source": [
        "print(time.strftime(\"%Y-%m-%d %H:%M:%S\") - formatted)"
      ],
      "metadata": {
        "colab": {
          "base_uri": "https://localhost:8080/",
          "height": 144
        },
        "id": "yzj_So989RVn",
        "outputId": "32be11b7-ec49-4ebc-fd32-02b22ddc4770"
      },
      "execution_count": 8,
      "outputs": [
        {
          "output_type": "error",
          "ename": "TypeError",
          "evalue": "unsupported operand type(s) for -: 'str' and 'str'",
          "traceback": [
            "\u001b[0;31m---------------------------------------------------------------------------\u001b[0m",
            "\u001b[0;31mTypeError\u001b[0m                                 Traceback (most recent call last)",
            "\u001b[0;32m/tmp/ipython-input-223064862.py\u001b[0m in \u001b[0;36m<cell line: 0>\u001b[0;34m()\u001b[0m\n\u001b[0;32m----> 1\u001b[0;31m \u001b[0mprint\u001b[0m\u001b[0;34m(\u001b[0m\u001b[0mtime\u001b[0m\u001b[0;34m.\u001b[0m\u001b[0mstrftime\u001b[0m\u001b[0;34m(\u001b[0m\u001b[0;34m\"%Y-%m-%d %H:%M:%S\"\u001b[0m\u001b[0;34m)\u001b[0m \u001b[0;34m-\u001b[0m \u001b[0mformatted\u001b[0m\u001b[0;34m)\u001b[0m\u001b[0;34m\u001b[0m\u001b[0;34m\u001b[0m\u001b[0m\n\u001b[0m",
            "\u001b[0;31mTypeError\u001b[0m: unsupported operand type(s) for -: 'str' and 'str'"
          ]
        }
      ]
    },
    {
      "cell_type": "markdown",
      "source": [
        "### (2) datetime"
      ],
      "metadata": {
        "id": "Ypl22Ssu9eRp"
      }
    },
    {
      "cell_type": "code",
      "source": [
        "import datetime\n",
        "print(datetime.datetime.now())"
      ],
      "metadata": {
        "colab": {
          "base_uri": "https://localhost:8080/"
        },
        "id": "ewX7Dhzd9hQ8",
        "outputId": "0d50a1c0-05f9-4475-90fd-f9fcc819757c"
      },
      "execution_count": 9,
      "outputs": [
        {
          "output_type": "stream",
          "name": "stdout",
          "text": [
            "2025-08-07 05:17:21.387665\n"
          ]
        }
      ]
    },
    {
      "cell_type": "code",
      "source": [
        "# 초의 소숫점 빼기\n",
        "print(datetime.datetime.now().strftime(\"%Y-%m-%d %H:%M:%S\"))"
      ],
      "metadata": {
        "colab": {
          "base_uri": "https://localhost:8080/"
        },
        "id": "IHHd5nGO9nHj",
        "outputId": "2c538fcd-9cd3-4ebc-8d1f-e65571033a78"
      },
      "execution_count": 10,
      "outputs": [
        {
          "output_type": "stream",
          "name": "stdout",
          "text": [
            "2025-08-07 05:17:55\n"
          ]
        }
      ]
    },
    {
      "cell_type": "code",
      "source": [
        "# 날짜만 확인하기\n",
        "print(datetime.datetime.now().strftime('%Y-%m-%d'))"
      ],
      "metadata": {
        "colab": {
          "base_uri": "https://localhost:8080/"
        },
        "id": "n0WP-YeD901O",
        "outputId": "892331f9-16ff-4ff1-f0ee-b480977e3d29"
      },
      "execution_count": 11,
      "outputs": [
        {
          "output_type": "stream",
          "name": "stdout",
          "text": [
            "2025-08-07\n"
          ]
        }
      ]
    },
    {
      "cell_type": "code",
      "source": [
        "from datetime import datetime, timedelta\n",
        "\n",
        "# 현재 시간\n",
        "now = datetime.now()\n",
        "print(f\"현재 : {now}\")\n",
        "\n",
        "# 2일 뒤의 날짜 계산\n",
        "after_two_days = now + timedelta(days=2)\n",
        "print(f\"2일 뒤 : {after_two_days}\")\n",
        "\n",
        "# 3시간 45분전의 날짜 계산\n",
        "before_three_hours = now - timedelta(hours=3, minutes=45)\n",
        "print(f\"3시간 45분 전 : {before_three_hours}\")"
      ],
      "metadata": {
        "colab": {
          "base_uri": "https://localhost:8080/"
        },
        "id": "-71Xmdm6-Bw7",
        "outputId": "c9efa486-a15a-4021-a6e2-a74e0cb269ef"
      },
      "execution_count": 12,
      "outputs": [
        {
          "output_type": "stream",
          "name": "stdout",
          "text": [
            "현재 : 2025-08-07 05:21:49.822336\n",
            "2일 뒤 : 2025-08-09 05:21:49.822336\n",
            "3시간 45분 전 : 2025-08-07 01:36:49.822336\n"
          ]
        }
      ]
    },
    {
      "cell_type": "code",
      "source": [
        "# 실제 시간 연산방법\n",
        "past_time = datetime.strptime(formatted, \"%Y-%m-%d %H:%M:%S\")\n",
        "now = datetime.now()\n",
        "print(now - past_time)"
      ],
      "metadata": {
        "colab": {
          "base_uri": "https://localhost:8080/"
        },
        "id": "X-vy5gCB-_iD",
        "outputId": "b8f62a72-bbe1-4699-b388-150d2dd4bbc0"
      },
      "execution_count": 14,
      "outputs": [
        {
          "output_type": "stream",
          "name": "stdout",
          "text": [
            "0:11:32.950752\n"
          ]
        }
      ]
    },
    {
      "cell_type": "markdown",
      "source": [
        "### (3) random"
      ],
      "metadata": {
        "id": "uTQUYEAv_XVW"
      }
    },
    {
      "cell_type": "code",
      "source": [
        "import random\n",
        "\n",
        "random.random()"
      ],
      "metadata": {
        "colab": {
          "base_uri": "https://localhost:8080/"
        },
        "id": "dGdOKdPJ_a0h",
        "outputId": "8d0ee485-cf56-473b-ce85-a30d32647bc5"
      },
      "execution_count": 18,
      "outputs": [
        {
          "output_type": "execute_result",
          "data": {
            "text/plain": [
              "0.012719066813131175"
            ]
          },
          "metadata": {},
          "execution_count": 18
        }
      ]
    },
    {
      "cell_type": "code",
      "source": [
        "\n",
        "for i in range(10):\n",
        "  print(random.randint(1, 6))\n"
      ],
      "metadata": {
        "colab": {
          "base_uri": "https://localhost:8080/"
        },
        "id": "d9e4qmV1AOZM",
        "outputId": "99b34c3d-9188-4bdb-cf2c-64b012181582"
      },
      "execution_count": 20,
      "outputs": [
        {
          "output_type": "stream",
          "name": "stdout",
          "text": [
            "3\n",
            "5\n",
            "2\n",
            "5\n",
            "1\n",
            "5\n",
            "2\n",
            "4\n",
            "6\n",
            "5\n"
          ]
        }
      ]
    },
    {
      "cell_type": "code",
      "source": [
        "성공 = 0\n",
        "실패 = 0\n",
        "for i in range(100):\n",
        "  k = random.randint(1,100)\n",
        "  if k >= 60:\n",
        "    성공 += 1\n",
        "  else:\n",
        "    실패 += 1\n",
        "\n",
        "print(f\"성공 횟수 {성공} 실패 횟수 {실패}\")"
      ],
      "metadata": {
        "colab": {
          "base_uri": "https://localhost:8080/"
        },
        "id": "NVr3qetzAaIW",
        "outputId": "67ba4833-c352-4513-d7d9-4f09f553221c"
      },
      "execution_count": 41,
      "outputs": [
        {
          "output_type": "stream",
          "name": "stdout",
          "text": [
            "성공 횟수 38 실패 횟수 62\n"
          ]
        }
      ]
    },
    {
      "cell_type": "code",
      "source": [
        "# shuffle(): 섞기\n",
        "\n",
        "deck = ['A', 'K' ,'Q']\n",
        "random.shuffle(deck)\n",
        "print(deck)"
      ],
      "metadata": {
        "colab": {
          "base_uri": "https://localhost:8080/"
        },
        "id": "Mfbx9ssKA8jP",
        "outputId": "5404e55b-6b1b-421b-cf8a-1f59d13931af"
      },
      "execution_count": 53,
      "outputs": [
        {
          "output_type": "stream",
          "name": "stdout",
          "text": [
            "['K', 'A', 'Q']\n"
          ]
        }
      ]
    },
    {
      "cell_type": "code",
      "source": [
        "# uniform(a,b)\n",
        "\n",
        "value = random.uniform(1.0,5.0)\n",
        "print(value)"
      ],
      "metadata": {
        "colab": {
          "base_uri": "https://localhost:8080/"
        },
        "id": "u_V5wciABJoi",
        "outputId": "ae197d64-ff36-4740-e12a-e884932ee51f"
      },
      "execution_count": 54,
      "outputs": [
        {
          "output_type": "stream",
          "name": "stdout",
          "text": [
            "1.823851587225886\n"
          ]
        }
      ]
    }
  ]
}