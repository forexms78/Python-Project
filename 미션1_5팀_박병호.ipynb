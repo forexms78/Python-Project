{
  "nbformat": 4,
  "nbformat_minor": 0,
  "metadata": {
    "colab": {
      "provenance": [],
      "toc_visible": true,
      "include_colab_link": true
    },
    "kernelspec": {
      "name": "python3",
      "display_name": "Python 3"
    },
    "language_info": {
      "name": "python"
    }
  },
  "cells": [
    {
      "cell_type": "markdown",
      "metadata": {
        "id": "view-in-github",
        "colab_type": "text"
      },
      "source": [
        "<a href=\"https://colab.research.google.com/github/forexms78/Python-Project/blob/main/%EB%AF%B8%EC%85%981_5%ED%8C%80_%EB%B0%95%EB%B3%91%ED%98%B8.ipynb\" target=\"_parent\"><img src=\"https://colab.research.google.com/assets/colab-badge.svg\" alt=\"Open In Colab\"/></a>"
      ]
    },
    {
      "cell_type": "markdown",
      "source": [
        "# **파이썬 연습**"
      ],
      "metadata": {
        "id": "PbVgH0G4_mer"
      }
    },
    {
      "cell_type": "markdown",
      "source": [
        "## 기초(7문제)"
      ],
      "metadata": {
        "id": "Q4Wm3gxu_xHr"
      }
    },
    {
      "cell_type": "markdown",
      "source": [
        "### 문제1. 3의 배수 출력"
      ],
      "metadata": {
        "id": "Juz-6LWkAItk"
      }
    },
    {
      "cell_type": "markdown",
      "source": [
        "- **문제 설명**  \n",
        "1부터 n까지의 숫자 중에서 3의 배수만 출력하는 함수를 작성하세요.\n",
        "\n",
        "- **함수 설명**  \n",
        "`print_multiples_of_three(n: int) -> int`:  \n",
        "  - n: 3의 배수를 구하고자 하는 범위의 최대값입니다.\n",
        "\n",
        "- **입출력 예시**   \n",
        "\n",
        "    - 입력1:\n",
        "\n",
        "    ```\n",
        "    7\n",
        "    ```\n",
        "\n",
        "    - 출력1:\n",
        "\n",
        "    ```\n",
        "    3\n",
        "    6\n",
        "    ```\n",
        "\n",
        "    - 입력2:\n",
        "    \n",
        "    ```\n",
        "    30\n",
        "    ```\n",
        "\n",
        "    - 출력2:\n",
        "\n",
        "    ```\n",
        "    3\n",
        "    6\n",
        "    9\n",
        "    12\n",
        "    15\n",
        "    18\n",
        "    21\n",
        "    24\n",
        "    27\n",
        "    30\n",
        "    ```"
      ],
      "metadata": {
        "id": "AiHzC_5X_7u2"
      }
    },
    {
      "cell_type": "code",
      "source": [
        "# 문제\n",
        "def print_multiples_of_three(n):\n",
        "  # 1부터 n숫자까지 반복\n",
        "  for i in range(1, n+1):\n",
        "    # 3의 배수를 확인하기 위해 3의로 나눈 나머지가 0이 될때\n",
        "\n",
        "    if i % 3 == 0:\n",
        "      print(i)"
      ],
      "metadata": {
        "id": "m1BC9Ez0_iuS"
      },
      "execution_count": null,
      "outputs": []
    },
    {
      "cell_type": "code",
      "source": [
        "# 프로그램 실행\n",
        "print_multiples_of_three(30)"
      ],
      "metadata": {
        "id": "StCVnx4-cpaI",
        "colab": {
          "base_uri": "https://localhost:8080/"
        },
        "outputId": "bd538925-9892-49df-ca12-587f172de2d1"
      },
      "execution_count": null,
      "outputs": [
        {
          "output_type": "stream",
          "name": "stdout",
          "text": [
            "3\n",
            "6\n",
            "9\n",
            "12\n",
            "15\n",
            "18\n",
            "21\n",
            "24\n",
            "27\n",
            "30\n"
          ]
        }
      ]
    },
    {
      "cell_type": "markdown",
      "source": [
        "### 문제2. 모음 제거하기"
      ],
      "metadata": {
        "id": "370RMQCNAyq_"
      }
    },
    {
      "cell_type": "markdown",
      "source": [
        "- **문제 설명**  \n",
        "문자열에서 모음(a, e, i, o, u)을 제거한 문자열을 반환하는 함수를 작성하세요.\n",
        "\n",
        "- **함수 설명**  \n",
        "`remove_vowels(s: string) -> string`:  \n",
        "  - s: 영어 소문자 알파벳으로 이루어진 문자열입니다.\n",
        "\n",
        "- **입출력 예시**   \n",
        "\n",
        "    - 입력1:\n",
        "\n",
        "    ```\n",
        "    \"codeit\"\n",
        "    ```\n",
        "\n",
        "    - 출력1:\n",
        "\n",
        "    ```\n",
        "    \"cdt\"\n",
        "    ```\n",
        "\n",
        "    - 입력2:\n",
        "    \n",
        "    ```\n",
        "    \"python programming\"\n",
        "    ```\n",
        "\n",
        "    - 출력2:\n",
        "\n",
        "    ```\n",
        "    \"pythn prgrmmng\"\n",
        "    ```\n",
        "\n"
      ],
      "metadata": {
        "id": "NPqtMNfXBjEH"
      }
    },
    {
      "cell_type": "code",
      "source": [
        "# 문제\n",
        "def remove_vowels(s):\n",
        "  # 문자열s 를 한글짜식 i에 반복 출력\n",
        "  for i in s:\n",
        "    # 해당 배열에 해당하는지 확인\n",
        "    if i in ['a', 'e', 'i', 'o', 'u']:\n",
        "      # 배열에 해당할때 빈칸으로 재배치\n",
        "      s = s.replace(i, '')\n",
        "\n",
        "  s = \"\\\"\" + s + \"\\\"\"\n",
        "  return s\n"
      ],
      "metadata": {
        "id": "ySFIF63AA5p2"
      },
      "execution_count": null,
      "outputs": []
    },
    {
      "cell_type": "code",
      "source": [
        "# 프로그램 실행\n",
        "print(remove_vowels(\"codeit\"))\n",
        "print(remove_vowels(\"python programming\"))"
      ],
      "metadata": {
        "id": "whdVJ850crtz",
        "colab": {
          "base_uri": "https://localhost:8080/"
        },
        "outputId": "f87e96b2-2592-4fb3-d7bb-7a7a5b328ff4"
      },
      "execution_count": null,
      "outputs": [
        {
          "output_type": "stream",
          "name": "stdout",
          "text": [
            "\"cdt\"\n",
            "\"pythn prgrmmng\"\n"
          ]
        }
      ]
    },
    {
      "cell_type": "markdown",
      "source": [
        "### 문제3. 수 크기 비교하기"
      ],
      "metadata": {
        "id": "3fmZxhvUA84G"
      }
    },
    {
      "cell_type": "markdown",
      "source": [
        "- **문제 설명**  \n",
        "두 개의 숫자를 입력받아, 큰 숫자와 작은 숫자를 각각 반환하는 함수를 작성하세요.\n",
        "(단, 동일한 숫자를 2회 입력하는 경우에는 순서 없이 한 번만 출력되도록 해 주세요.)\n",
        "\n",
        "- **함수 설명**\n",
        "\n",
        "  `compare_numbers(num1, num2)`:  \n",
        "  - num1, num2 : 정수형\n",
        "\n",
        "- **입출력 예시**\n",
        "\n",
        "  - 입력:\n",
        "    ```\n",
        "    10, 20\n",
        "    ```\n",
        "\n",
        "  - 출력:\n",
        "    ```\n",
        "    20\n",
        "    ```"
      ],
      "metadata": {
        "id": "neh_z-dxB246"
      }
    },
    {
      "cell_type": "code",
      "source": [
        "# 문제\n",
        "def compare_numbers(num1, num2):\n",
        "\n",
        "  #파라미터 두수를 비교\n",
        "  if num1 > num2:\n",
        "    return num1\n",
        "  elif num2 == num1:\n",
        "    return num2\n",
        "\n",
        "    #두수가 같을땐 한숫자 출력\n",
        "  else:\n",
        "    return num2"
      ],
      "metadata": {
        "id": "uy7jlZ5HA84I"
      },
      "execution_count": null,
      "outputs": []
    },
    {
      "cell_type": "code",
      "source": [
        "# 프로그램 실행\n",
        "print(compare_numbers(10, 20))\n",
        "print(compare_numbers(10, 10))"
      ],
      "metadata": {
        "id": "TaCXp5wPcteR",
        "colab": {
          "base_uri": "https://localhost:8080/"
        },
        "outputId": "0fecab74-c0c2-4ac4-a63b-c002aa21fd13"
      },
      "execution_count": null,
      "outputs": [
        {
          "output_type": "stream",
          "name": "stdout",
          "text": [
            "20\n",
            "10\n"
          ]
        }
      ]
    },
    {
      "cell_type": "markdown",
      "source": [
        "### 문제4. 문자열 길이 반환하기"
      ],
      "metadata": {
        "id": "y676kwTvA9JC"
      }
    },
    {
      "cell_type": "markdown",
      "source": [
        "- **문제 설명**  \n",
        "문자열의 길이를 반환하되, 문자열이 빈 문자열이면 “문자열이 비어 있습니다.“를 반환하는 함수를 작성하세요.\n",
        "\n",
        "- **함수 설명**\n",
        "`check_string_length(string)`:  \n",
        "  - string : 영어 알파벳 및 공백이 포함된 문자열입니다.\n",
        "\n",
        "- **입출력 예시**   \n",
        "\n",
        "    - 입력1:\n",
        "\n",
        "    ```\n",
        "    \"Python\"\n",
        "    ```\n",
        "\n",
        "    - 출력1:\n",
        "\n",
        "    ```\n",
        "    6\n",
        "    ```\n",
        "\n",
        "    - 입력2:\n",
        "    \n",
        "    ```\n",
        "    \"\"\n",
        "    ```\n",
        "\n",
        "    - 출력2:\n",
        "\n",
        "    ```\n",
        "    \"문자열이 비어 있습니다.\"\n",
        "    ```"
      ],
      "metadata": {
        "id": "ZYsb67Q_CAEB"
      }
    },
    {
      "cell_type": "code",
      "source": [
        "# 문제\n",
        "def check_string_length(string):\n",
        "  result = \"\\\"문자열이 비어 있습니다.\\\"\" if len(string) == 0 else len(string)\n",
        "  print(result)"
      ],
      "metadata": {
        "id": "yY4uoyTbCLaY"
      },
      "execution_count": null,
      "outputs": []
    },
    {
      "cell_type": "code",
      "source": [
        "# 프로그램 실행\n",
        "check_string_length(\"Python\")\n",
        "check_string_length(\"\")"
      ],
      "metadata": {
        "id": "IqEvBf2QcwN1",
        "colab": {
          "base_uri": "https://localhost:8080/"
        },
        "outputId": "796d4281-ea16-415b-a832-c9c1c17d6e2e"
      },
      "execution_count": null,
      "outputs": [
        {
          "output_type": "stream",
          "name": "stdout",
          "text": [
            "6\n",
            "\"문자열이 비어 있습니다.\"\n"
          ]
        }
      ]
    },
    {
      "cell_type": "markdown",
      "source": [
        "### 문제5. 총 합계 구하기"
      ],
      "metadata": {
        "id": "RT_7aSKZBNWd"
      }
    },
    {
      "cell_type": "markdown",
      "source": [
        "- **문제 설명**  \n",
        "0부터 사용자가 입력한 숫자 n까지의 합을 구하는 함수를 작성하세요.\n",
        "\n",
        "- **함수 설명**  \n",
        "`sum_up_to_n(n)`:  \n",
        "  - n: 0보다 큰 정수\n",
        "\n",
        "- **입출력 예시**   \n",
        "\n",
        "    - 입력1:\n",
        "\n",
        "    ```\n",
        "    3\n",
        "    ```\n",
        "\n",
        "    - 출력1:\n",
        "\n",
        "    ```\n",
        "    6\n",
        "    ```\n",
        "\n",
        "    - 입력2:\n",
        "    \n",
        "    ```\n",
        "    10\n",
        "    ```\n",
        "\n",
        "    - 출력2:\n",
        "\n",
        "    ```\n",
        "    55\n",
        "    ```\n",
        "\n"
      ],
      "metadata": {
        "id": "Xc9D8bHFCRJG"
      }
    },
    {
      "cell_type": "code",
      "source": [
        "# 문제\n",
        "def sum_up_to_n(n):\n",
        "\n",
        "  # 총합을 위한 변수 생성\n",
        "  total = 0\n",
        "\n",
        "  # 입력받은 n만큼 반복\n",
        "  for i in range(n+1):\n",
        "    total += i\n",
        "  return total"
      ],
      "metadata": {
        "id": "HC4sgDFdBNWk"
      },
      "execution_count": null,
      "outputs": []
    },
    {
      "cell_type": "code",
      "source": [
        "# 프로그램 실행\n",
        "print(sum_up_to_n(3))\n",
        "print(sum_up_to_n(10))\n",
        "print(sum_up_to_n(0))"
      ],
      "metadata": {
        "id": "pdWV5lntcx9h",
        "colab": {
          "base_uri": "https://localhost:8080/"
        },
        "outputId": "52f120bf-09ad-45f2-c6a7-53b5451630ae"
      },
      "execution_count": null,
      "outputs": [
        {
          "output_type": "stream",
          "name": "stdout",
          "text": [
            "6\n",
            "55\n",
            "0\n"
          ]
        }
      ]
    },
    {
      "cell_type": "markdown",
      "source": [
        "### 문제6. 짝수 합 구하기"
      ],
      "metadata": {
        "id": "Cvtyy64dBNig"
      }
    },
    {
      "cell_type": "markdown",
      "source": [
        "- **문제 설명**\n",
        "\n",
        "  사용자가 입력한 숫자 n까지의 짝수 합을 구하는 함수를 작성하되, 0을 입력하면 프로그램을 종료하는 함수를 작성하세요. (단, 음수는 입력하지 않는다고 가정합니다.)\n",
        "\n",
        "- **함수 설명**\n",
        "\n",
        "  `sum_even_numbers(n: int)`\n",
        "\n",
        "  - 사용자에게 숫자 입력값을 받아, 1부터 n까지의 짝수 합은 ___ 입니다.\" 가 출력됩니다.\n",
        "  - 0 입력시 종료됨을 안내합니다.\n",
        "\n",
        "- **입출력 예시**\n",
        "\n",
        "    - 입력1:\n",
        "\n",
        "    ```\n",
        "    9\n",
        "    ```\n",
        "\n",
        "    - 출력1:\n",
        "\n",
        "    ```\n",
        "    \"1부터 9까지의 짝수 합은 20입니다.\"\n",
        "    ```\n",
        "\n",
        "    - 입력2:\n",
        "    \n",
        "    ```\n",
        "    0\n",
        "    ```\n",
        "\n",
        "    - 출력2:\n",
        "\n",
        "    ```\n",
        "    종료\n",
        "    ```"
      ],
      "metadata": {
        "id": "jMWwAW7xDGtv"
      }
    },
    {
      "cell_type": "code",
      "source": [
        "# 문제\n",
        "def sum_even_numbers(num):\n",
        "\n",
        "  # 총합을 위한 변수 생성\n",
        "  total = 0\n",
        "\n",
        "  # 0을 입력받을시 종료 출력\n",
        "  if num == 0:\n",
        "    print(\"종료\")\n",
        "  else:\n",
        "    # 0부터 num까지 숫자 반복\n",
        "    for i in range(num+1):\n",
        "      # i를 2로 나눈 나머지가 0 이라면 i를 num2 변수에 넣기 아니라면 0 넣기\n",
        "      num2 = i if i % 2 == 0 else 0\n",
        "      total += num2\n",
        "    print(f\"\\\"1부터 {num}까지의 짝수 합은 {total}입니다.\\\"\")\n"
      ],
      "metadata": {
        "id": "1_sLXOtKBNih"
      },
      "execution_count": null,
      "outputs": []
    },
    {
      "cell_type": "code",
      "source": [
        "# 프로그램 실행\n",
        "sum_even_numbers(3)\n",
        "sum_even_numbers(0)\n",
        "sum_even_numbers(9)"
      ],
      "metadata": {
        "id": "B8P6CW-ec0sn",
        "colab": {
          "base_uri": "https://localhost:8080/"
        },
        "outputId": "7306a0a7-de96-4b39-a2a4-14e774723163"
      },
      "execution_count": null,
      "outputs": [
        {
          "output_type": "stream",
          "name": "stdout",
          "text": [
            "\"1부터 3까지의 짝수 합은 2입니다.\"\n",
            "종료\n",
            "\"1부터 9까지의 짝수 합은 20입니다.\"\n"
          ]
        }
      ]
    },
    {
      "cell_type": "markdown",
      "source": [
        "### 문제7. 두 숫자 나누기"
      ],
      "metadata": {
        "id": "xtmzptFYBNqV"
      }
    },
    {
      "cell_type": "markdown",
      "source": [
        "- **문제 설명**\n",
        "사용자가 입력한 두 숫자를 나누는 프로그램을 작성하세요. 예외가 발생하면 \"잘못된 입력입니다.\"를 반환하는 함수를 작성하세요.\n",
        "\n",
        "- **함수 설명**\n",
        "\n",
        "  `divide_numbers(a, b)`\n",
        "  - 사용자에게 두개의 숫자를 차례대로 입력 받습니다.\n",
        "  - 첫번째 숫자를 두번째 숫자로 나눕니다.\n",
        "  - 결과값을 반환합니다. 단, 예외가 발생하면 \"잘못된 입력입니다.\"를 반환합니다.\n",
        "  - `try-except` 구문을 활용하여 함수를 작성해보세요. 이 문법에 대해서 구글링을 해도 좋습니다.\n",
        "\n",
        "- **입출력 예시**\n",
        "\n",
        "- 입력1:\n",
        "    ```\n",
        "    42, 7\n",
        "    ```\n",
        "\n",
        "- 출력1:\n",
        "    ```\n",
        "    6\n",
        "    ```\n",
        "\n",
        "- 입력2:\n",
        "    ```\n",
        "    135, 0\n",
        "    ```\n",
        "\n",
        "- 출력2:\n",
        "    ```\n",
        "    \"잘못된 입력입니다.\"\n",
        "    ```"
      ],
      "metadata": {
        "id": "BUfPiCg9Defz"
      }
    },
    {
      "cell_type": "code",
      "source": [
        "# 문제\n",
        "def divide_numbers(a,b):\n",
        "  try:\n",
        "    result = a / b\n",
        "    print(int(result))\n",
        "  except:\n",
        "    print(\"잘못된 입력입니다.\")\n",
        "\n",
        "  pass"
      ],
      "metadata": {
        "id": "AoZgw6aRBNqa"
      },
      "execution_count": null,
      "outputs": []
    },
    {
      "cell_type": "code",
      "source": [
        "# 프로그램 실행\n",
        "divide_numbers(42,7)\n",
        "divide_numbers(135,0)"
      ],
      "metadata": {
        "id": "RZUAXWopc2sp",
        "colab": {
          "base_uri": "https://localhost:8080/"
        },
        "outputId": "c2230d32-703a-425f-e2d3-59cb46d3bd50"
      },
      "execution_count": null,
      "outputs": [
        {
          "output_type": "stream",
          "name": "stdout",
          "text": [
            "6\n",
            "잘못된 입력입니다.\n"
          ]
        }
      ]
    },
    {
      "cell_type": "markdown",
      "source": [
        "## 응용(3문제)"
      ],
      "metadata": {
        "id": "mZDwWOfcFWlb"
      }
    },
    {
      "cell_type": "markdown",
      "source": [
        "### 문제1. 문자열 압축 게임\n",
        "\n"
      ],
      "metadata": {
        "id": "Tuj2xplNFgCq"
      }
    },
    {
      "cell_type": "markdown",
      "source": [
        "- **문제 설명**\n",
        "\n",
        "  주어진 문자열에서 연속해서 같은 문자가 반복되는 경우, 그 문자와 반복 횟수를 이용해 새로운 형태로 문자열을 압축합니다. 예를 들어, \"aabcccccaaa\" 문자열은 \"a2b1c5a3\"로 압축될 수 있습니다.\n",
        "\n",
        "- **함수 설명**  \n",
        "`compress_string(s: str) -> str`:  \n",
        "  - s: 압축하고자 하는 문자열입니다.\n",
        "\n",
        "- **입출력 예시**\n",
        "\n",
        "    - 입력1:\n",
        "\n",
        "    ```\n",
        "    \"aaabbaaa\"\n",
        "    ```\n",
        "\n",
        "    - 출력1:\n",
        "\n",
        "    ```\n",
        "    \"a3b2a3\"\n",
        "    ```\n",
        "\n",
        "    - 입력2:\n",
        "    \n",
        "    ```\n",
        "    \"aabcccccaaa\"\n",
        "    ```\n",
        "\n",
        "    - 출력2:\n",
        "\n",
        "    ```\n",
        "    \"a2b1c5a3\"\n",
        "    ```"
      ],
      "metadata": {
        "id": "txOKh3aEFiw5"
      }
    },
    {
      "cell_type": "code",
      "source": [
        "\n",
        "def compress_string(s):\n",
        "\n",
        "  #결과를 위한 result 변수 전의 값을 저장하기 위한 old변수 숫자를 카운팅하기위한 count변수\n",
        "  result = \"\"\n",
        "  old = \"\"\n",
        "\n",
        "  # 첫번째 오는 문자를 저장 후 카운터를 1로 변경\n",
        "  count = 1\n",
        "  old = s[0]\n",
        "\n",
        "  #0번째 인덱스를 전에 사용하여 1번째 인덱스부터 끝까지 반복\n",
        "  for now in s[1:]:\n",
        "\n",
        "    # now의 문자와 old의 문자가 같으면 카운터를 추가\n",
        "    if now == old:\n",
        "      count += 1\n",
        "\n",
        "    # 서로 값이 다를시 이전의 값과 카운터를 result에 기록 old에 새로운값과 카운트 1을추가\n",
        "    else:\n",
        "      result += old + str(count)\n",
        "      old = now\n",
        "      count = 1\n",
        "\n",
        "  #마지막으로 남은 문자와 카운트를 저장\n",
        "  result += old + str(count)\n",
        "  print(result)\n",
        "\n",
        "\n",
        "\n",
        "\n"
      ],
      "metadata": {
        "id": "Ft7h8CGrFi7j"
      },
      "execution_count": null,
      "outputs": []
    },
    {
      "cell_type": "code",
      "source": [
        "# 프로그램 실행\n",
        "compress_string(\"aaabbaaa\")\n",
        "compress_string(\"aabcccccaaa\")"
      ],
      "metadata": {
        "id": "PP2SR2Fyc4k_",
        "colab": {
          "base_uri": "https://localhost:8080/"
        },
        "outputId": "400f58e1-f2f3-462b-c3a2-5de142a6faf1"
      },
      "execution_count": null,
      "outputs": [
        {
          "output_type": "stream",
          "name": "stdout",
          "text": [
            "a3b2a3\n",
            "a2b1c5a3\n"
          ]
        }
      ]
    },
    {
      "cell_type": "markdown",
      "source": [
        "### 문제2. 덧셈 프로그램\n",
        "\n"
      ],
      "metadata": {
        "id": "y4kJ_x6eFnmp"
      }
    },
    {
      "cell_type": "markdown",
      "source": [
        "- **문제 설명**\n",
        "이 프로그램은 두 개의 숫자를 입력받아 그 합을 계산합니다. 입력받은 값이 숫자 형식이 아니면, 사용자에게 숫자 형식의 입력을 요청합니다. 숫자 입력이 완료되면 두 숫자의 합을 출력합니다.\n",
        "\n",
        "- **함수 설명**\n",
        "\n",
        "  `add_numbers()`\n",
        "  - 이 함수는 `input()`을 사용하여 사용자로부터 두 개의 숫자를 입력받습니다.\n",
        "  - 입력된 값이 숫자가 아닐 경우, \"올바른 숫자를 입력하세요.\"라는 메시지를 출력하고 다시 입력을 요청합니다.\n",
        "  - 두 숫자의 합을 계산하고 결과를 출력합니다.\n",
        "\n",
        "- **입출력 예시**\n",
        "\n",
        "    - 입력:\n",
        "        ```\n",
        "        첫 번째 숫자를 입력하세요: 10\n",
        "        첫 번째 숫자를 입력하세요: twenty\n",
        "        첫 번째 숫자를 입력하세요: 10\n",
        "        두 번째 숫자를 입력하세요: 20\n",
        "        ```\n",
        "\n",
        "    - 출력:\n",
        "        ```\n",
        "        올바른 숫자를 입력하세요.\n",
        "        10 + 20 = 30\n",
        "        ```"
      ],
      "metadata": {
        "id": "nT-U2IVsFnmr"
      }
    },
    {
      "cell_type": "code",
      "source": [
        "# 문제\n",
        "def add_numbers():\n",
        "  # 잘못 입력했을때를 생각해 while문을 사용\n",
        "    while 1:\n",
        "      num1 = input('첫 번째 숫자를 입력하세요: ')\n",
        "      if num1.isdigit():\n",
        "        break\n",
        "      print(\"올바른 숫자를 입력하세요.\")\n",
        "    while 1:\n",
        "      num2 = input('두 번째 숫자를 입력하세요: ')\n",
        "      if num2.isdigit():\n",
        "        break\n",
        "      print(\"올바른 숫자를 입력하세요.\")\n",
        "\n",
        "    sum = int(num1) + int(num2)\n",
        "    print(f\"{num1} + {num2} = {sum}\")"
      ],
      "metadata": {
        "id": "Np5jxyB8Fnms"
      },
      "execution_count": null,
      "outputs": []
    },
    {
      "cell_type": "code",
      "source": [
        "# 프로그램 실행\n",
        "add_numbers()"
      ],
      "metadata": {
        "id": "TA_0uSezYJsK",
        "colab": {
          "base_uri": "https://localhost:8080/"
        },
        "outputId": "cc8eb969-0a64-4ce6-cf8b-45378e49b971"
      },
      "execution_count": null,
      "outputs": [
        {
          "output_type": "stream",
          "name": "stdout",
          "text": [
            "첫 번째 숫자를 입력하세요: 10\n",
            "두 번째 숫자를 입력하세요: twenty\n",
            "올바른 숫자를 입력하세요.\n",
            "두 번째 숫자를 입력하세요: 10\n",
            "10 + 10 = 20\n"
          ]
        }
      ]
    },
    {
      "cell_type": "markdown",
      "source": [
        "### 문제3. 카운트다운 타이머"
      ],
      "metadata": {
        "id": "AOeljAinFnxF"
      }
    },
    {
      "cell_type": "markdown",
      "source": [
        "- **문제 설명**  \n",
        "  사용자로부터 시간(초)을 입력받아 해당 시간만큼 카운트 다운을 진행한 후, \"타이머 종료!\"를 출력하고 프로그램이 종료됩니다. 매 초마다 남은 시간을 화면에 출력합니다.\n",
        "\n",
        "- **함수 설명**     \n",
        "  \n",
        "  `count_down(seconds: int)`:  \n",
        "  - seconds: 카운트 다운할 시간(초)입니다.\n",
        "  - 입력받은 초만큼 카운트 다운을 진행하며, 매 초마다 남은 시간을 출력합니다.\n",
        "  - 시간이 종료되면 \"타이머 종료!\"를 출력하고 프로그램을 종료합니다.\n",
        "\n",
        "- **입출력 예시**\n",
        "\n",
        "  - 입력:\n",
        "    ```\n",
        "    타이머를 시작할 시간(초)을 입력하세요: 5\n",
        "    ```\n",
        "\n",
        "  - 출력:\n",
        "    ```\n",
        "    타이머 시작!\n",
        "    5\n",
        "    4\n",
        "    3\n",
        "    2\n",
        "    1\n",
        "    타이머 종료!\n",
        "    ```"
      ],
      "metadata": {
        "id": "cvg3_x06FnxG"
      }
    },
    {
      "cell_type": "code",
      "source": [
        "# 문제\n",
        "import time\n",
        "\n",
        "def countdown_timer(seconds):\n",
        "  # 입력받은 숫자가 0보다 작은 숫자라면 타이머를 종료\n",
        "  if seconds <= 0:\n",
        "    print(\"타이머 종료!\")\n",
        "  # 현제 입력받은 초를 출력하고 1초를 대기 그리고 1초를 줄인뒤 다시 함수를 재귀\n",
        "  else:\n",
        "    print(seconds)\n",
        "    time.sleep(1)\n",
        "    seconds -= 1\n",
        "    countdown_timer(seconds)\n",
        "\n"
      ],
      "metadata": {
        "id": "5PkfT7ZTFnxG"
      },
      "execution_count": null,
      "outputs": []
    },
    {
      "cell_type": "code",
      "source": [
        "# 프로그램 실행\n",
        "countdown_timer(5)"
      ],
      "metadata": {
        "id": "Uqb2vhP4YLoy",
        "colab": {
          "base_uri": "https://localhost:8080/"
        },
        "outputId": "0964818e-4ab4-492b-a2ba-7e920f3017bb"
      },
      "execution_count": null,
      "outputs": [
        {
          "output_type": "stream",
          "name": "stdout",
          "text": [
            "5\n",
            "4\n",
            "3\n",
            "2\n",
            "1\n",
            "타이머 종료!\n"
          ]
        }
      ]
    },
    {
      "cell_type": "markdown",
      "source": [
        "# **객체와 클래스**"
      ],
      "metadata": {
        "id": "HQMkKObNAr4s"
      }
    },
    {
      "cell_type": "markdown",
      "source": [
        "## 기초(2문제)"
      ],
      "metadata": {
        "id": "ko02FG9WGubi"
      }
    },
    {
      "cell_type": "markdown",
      "source": [
        "### 문제1. 시간 추적 클래스(TimeTracker)"
      ],
      "metadata": {
        "id": "DuBZXjwCGwvs"
      }
    },
    {
      "cell_type": "markdown",
      "source": [
        "- **실습 설명**\n",
        "\n",
        "  시간을 관리하고 추적하는 `TimeTracker` 클래스를 구현하는 프로젝트를 시작합니다. 시간 관리 기능은 특히 프로젝트 작업, 운동, 공부 시간 등 다양한 활동의 지속 시간을 측정하는 데 유용합니다.\n",
        "\n",
        "  `TimeTracker` 클래스는 다음 기능을 제공해야 합니다:\n",
        "\n",
        "  1. **시작 시간 설정**: 사용자가 활동을 시작할 때의 시간을 기록합니다.\n",
        "  2. **종료 시간 설정**: 사용자가 활동을 종료할 때의 시간을 기록합니다.\n",
        "  3. **경과 시간 계산**: 활동의 시작과 종료 사이의 시간 차이를 계산합니다.\n",
        "\n",
        "  이 클래스의 인스턴스를 사용하여 각각의 활동에 대해 별도의 시간 추적을 할 수 있어야 합니다.\n",
        "\n",
        "- **구현해야 할 메소드**\n",
        "\n",
        "  - `start`: 현재 시간을 시작 시간으로 설정합니다.\n",
        "  - `stop`: 현재 시간을 종료 시간으로 설정하고 경과 시간을 계산합니다.\n",
        "  - `get_elapsed_time`: 마지막으로 기록된 시작 시간과 종료 시간 사이의 경과 시간을 분 단위로 반환합니다.\n",
        "\n",
        "- **실습 결과 예시**\n",
        "\n",
        "  다음과 같은 코드를 실행했을 때의 출력 예시입니다:\n",
        "\n",
        "  ```python\n",
        "  study_session = TimeTracker()\n",
        "  study_session.start()\n",
        "  # 1시간 30분 경과(가정)\n",
        "  study_session.stop()\n",
        "\n",
        "  print(\"활동 시간:\", study_session.get_elapsed_time(), \"분\")\n",
        "  ```\n",
        "\n",
        "  예상 출력:\n",
        "\n",
        "  ```\n",
        "  공부한 시간: 90 분\n",
        "  ```\n",
        "\n",
        "- **요구 사항**\n",
        "\n",
        "  1. 실제 시간을 추적하려면 Python의 `datetime` 모듈을 사용하여 현재 시간을 `datetime.now()`로 가져올 수 있습니다.\n",
        "  2. 경과 시간은 분 단위로 반환해야 합니다."
      ],
      "metadata": {
        "id": "C6_k548JGygZ"
      }
    },
    {
      "cell_type": "code",
      "source": [
        "from datetime import datetime\n",
        "import time\n",
        "\n",
        "# 문제\n",
        "class TimeTracker:\n",
        "  # 시작시간과 종료시간을 None으로 설정\n",
        "  def __init__ (self):\n",
        "    self.x = None\n",
        "    self.x = None\n",
        "\n",
        "  #시작 시간을 기록\n",
        "  def start(self):\n",
        "    self.x = int(time.time())\n",
        "\n",
        "  #끝난 시간을 기록\n",
        "  def stop(self):\n",
        "    self.y  = int(time.time())\n",
        "\n",
        "  #두 시간의 차이를 계산\n",
        "  def get_elapsed_time(self):\n",
        "\n",
        "    # 먼저 두시간이 있는지 확인\n",
        "    if self.x and self.y:\n",
        "      result = self.x - self.y\n",
        "\n",
        "      #분으로 출력해야함으로 60보다 작으면 0분을 출력\n",
        "      if result < 60:\n",
        "        result = 0\n",
        "\n",
        "      #60초 이상이면 60으로 나눠서 분으로 표시\n",
        "      else:\n",
        "        result = int(result /60)\n",
        "      return result\n",
        "    else:\n",
        "      return None"
      ],
      "metadata": {
        "id": "h7RXJAbAAvUZ"
      },
      "execution_count": null,
      "outputs": []
    },
    {
      "cell_type": "code",
      "source": [
        "# 사용 예시\n",
        "# 활동 시작\n",
        "study_session = TimeTracker()\n",
        "study_session.start()"
      ],
      "metadata": {
        "id": "AsvTxp19Xyuo"
      },
      "execution_count": null,
      "outputs": []
    },
    {
      "cell_type": "code",
      "source": [
        "# 활동 종료\n",
        "study_session.stop()\n",
        "print(\"공부한 시간:\", study_session.get_elapsed_time(), \"분\")"
      ],
      "metadata": {
        "id": "2eSYFcojj476",
        "colab": {
          "base_uri": "https://localhost:8080/"
        },
        "outputId": "df44edaf-07ac-4ab1-a9b6-d552995f0ce8"
      },
      "execution_count": null,
      "outputs": [
        {
          "output_type": "stream",
          "name": "stdout",
          "text": [
            "공부한 시간: 0 분\n"
          ]
        }
      ]
    },
    {
      "cell_type": "markdown",
      "source": [
        "### 문제2. 주소록 클래스"
      ],
      "metadata": {
        "id": "aS6kmb2nHQ8J"
      }
    },
    {
      "cell_type": "markdown",
      "source": [
        "\n",
        "\n",
        "- **실습 설명**\n",
        "\n",
        "  주소록 관리 시스템을 위한 `Contact` 클래스를 구현하는 프로젝트를 시작합니다. 이 클래스는 개인의 기본 연락처 정보를 저장하고 관리하는 데 사용됩니다.\n",
        "\n",
        "  `Contact` 클래스는 다음 정보를 저장할 수 있어야 합니다:\n",
        "\n",
        "  - 이름(name)\n",
        "  - 전화번호(phone number)\n",
        "  - 이메일 주소(email address)\n",
        "\n",
        "  클래스는 이 정보를 효율적으로 관리할 수 있는 기능을 제공해야 합니다.\n",
        "\n",
        "\n",
        "- **구현해야 할 메소드**\n",
        "\n",
        "  - `__init__`: 객체를 생성할 때 이름, 전화번호, 이메일 주소를 초기화합니다.\n",
        "  - `__str__`: 연락처의 정보를 예쁘게 출력할 수 있는 문자열로 반환합니다. 이 문자열은 연락처 정보를 한눈에 알아볼 수 있도록 포맷팅됩니다.\n",
        "\n",
        "\n",
        "                                       \n",
        "\n",
        "- **실습 결과 예시**\n",
        "\n",
        "  다음과 같은 코드를 실행했을 때의 출력 예시입니다:\n",
        "\n",
        "  ```python\n",
        "  friend = Contact(\"Jane Doe\", \"010-1234-5678\", \"jane@example.com\")\n",
        "  print(friend)\n",
        "  ```\n",
        "\n",
        "  예상 출력:\n",
        "\n",
        "  ```\n",
        "  이름: Jane Doe\n",
        "  전화번호: 010-1234-5678\n",
        "  이메일: jane@example.com\n",
        "  ```\n",
        "\n",
        "- **요구 사항**\n",
        "\n",
        "  - 모든 입력 데이터는 문자열로 처리해야 합니다.\n",
        "  - 연락처 정보를 적절하게 포맷팅하여 출력할 수 있어야 합니다."
      ],
      "metadata": {
        "id": "HUmjzWzpHS3Z"
      }
    },
    {
      "cell_type": "code",
      "source": [
        "# 문제\n",
        "class Contact:\n",
        "\n",
        "  def __init__(self, name, phone_number, email_address):\n",
        "    self.name = name\n",
        "    self.phone_number = phone_number\n",
        "    self.email_address = email_address\n",
        "\n",
        "  def __str__(self):\n",
        "    return (f\"이름: {self.name}\\n\"\n",
        "            f\"전화번호: {self.phone_number}\\n\"\n",
        "            f\"이메일: {self.email_address}\")\n"
      ],
      "metadata": {
        "id": "YGmtWN0_HGxo"
      },
      "execution_count": null,
      "outputs": []
    },
    {
      "cell_type": "code",
      "source": [
        "# 사용 예시\n",
        "friend = Contact(\"Jane Doe\", \"010-1234-5678\", \"jane@example.com\")\n",
        "print(friend)"
      ],
      "metadata": {
        "id": "_YsspEH3ZPHN",
        "colab": {
          "base_uri": "https://localhost:8080/"
        },
        "outputId": "ab91fc03-2727-40e0-8e57-cf179021dff9"
      },
      "execution_count": null,
      "outputs": [
        {
          "output_type": "stream",
          "name": "stdout",
          "text": [
            "이름: Jane Doe\n",
            "전화번호: 010-1234-5678\n",
            "이메일: jane@example.com\n"
          ]
        }
      ]
    },
    {
      "cell_type": "markdown",
      "source": [
        "## 응용(4문제)"
      ],
      "metadata": {
        "id": "wehB6bRNH4cD"
      }
    },
    {
      "cell_type": "markdown",
      "source": [
        "### 문제1. 투표 시스템 클래스"
      ],
      "metadata": {
        "id": "OVzp80MqHkf1"
      }
    },
    {
      "cell_type": "markdown",
      "source": [
        "- **실습 설명**\n",
        "\n",
        "  간단한 투표 시스템을 위한 `VoteSystem` 클래스를 구현하는 프로젝트를 시작합니다. 이 시스템은 후보자 목록을 관리하고, 각 후보자에 대한 투표를 집계하는 기능을 제공합니다.\n",
        "\n",
        "  `VoteSystem` 클래스는 다음 기능을 제공해야 합니다:\n",
        "\n",
        "  - 후보자 등록\n",
        "  - 투표 기능\n",
        "  - 투표 결과 조회\n",
        "\n",
        "- **구현해야 할 메소드**\n",
        "\n",
        "  - `add_candidate`: 후보자를 등록합니다. 후보자의 이름을 입력받아 목록에 추가합니다.\n",
        "  - `vote`: 특정 후보자에게 투표합니다. 투표하려는 후보자의 이름을 입력받습니다.\n",
        "  - `get_results`: 각 후보자의 투표 수를 출력합니다.\n",
        "\n",
        "- **실습 결과 예시**\n",
        "\n",
        "  - 다음과 같은 코드를 실행했을 때의 출력 예시입니다:\n",
        "\n",
        "    ```python\n",
        "    voting_system = VoteSystem()\n",
        "    voting_system.add_candidate(\"Alice\")\n",
        "    voting_system.add_candidate(\"Bob\")\n",
        "    voting_system.add_candidate(\"Charlie\")\n",
        "\n",
        "    voting_system.vote(\"Alice\")\n",
        "    voting_system.vote(\"Alice\")\n",
        "    voting_system.vote(\"Bob\")\n",
        "\n",
        "    voting_system.get_results()\n",
        "    ```\n",
        "\n",
        "  - 예상 출력:\n",
        "\n",
        "    ```\n",
        "    Alice 후보가 성공적으로 등록되었습니다.\n",
        "    Bob 후보가 성공적으로 등록되었습니다.\n",
        "    Charlie 후보가 성공적으로 등록되었습니다.\n",
        "    Alice에게 투표하였습니다.\n",
        "    Alice에게 투표하였습니다.\n",
        "    Bob에게 투표하였습니다.\n",
        "    투표 결과:\n",
        "    Alice: 2 votes\n",
        "    Bob: 1 vote\n",
        "    Charlie: 0 votes\n",
        "    ```\n",
        "\n",
        "- **요구 사항**\n",
        "\n",
        "  - 후보자는 중복 등록될 수 없습니다.\n",
        "  - 등록되지 않은 후보자에게 투표할 수 없습니다.\n",
        "  - 각 후보자의 이름과 투표 수는 사전(dictionary)을 사용하여 관리합니다."
      ],
      "metadata": {
        "id": "HL5-6uKyHksh"
      }
    },
    {
      "cell_type": "code",
      "source": [
        "# 문제\n",
        "class VoteSystem:\n",
        "\n",
        "  # 시스템에 적용해야하기때문에 둘다 배열로 적용 같은 인덱스를 기준으로 판단\n",
        "  def __init__(self):\n",
        "    self.candidate = []\n",
        "    self.votes = []\n",
        "\n",
        "  # 배열에 해당 후보와 0표를 입력\n",
        "  def add_candidate(self,name):\n",
        "    self.candidate.append(name)\n",
        "    self.votes.append(0)\n",
        "    print(f\"{name} 후보가 성공적으로 등록되었습니다.\")\n",
        "\n",
        "  # 배열에 적용하기 위해서 index를 사용하여 해당 후보를 찾고 투표수를 증가\n",
        "  def vote(self,name):\n",
        "    for i in range(len(self.candidate)):\n",
        "      if self.candidate[i] == name:\n",
        "        self.votes[i] += 1\n",
        "        return print(f\"{name}에게 투표하였습니다.\")\n",
        "    print(\"등록되지 않은 후보자에게 투표할 수 없습니다.\")\n",
        "\n",
        "  # 배열을 모두 출력\n",
        "  def get_results(self):\n",
        "    print(\"투표 결과:\")\n",
        "    for i in range(len(self.candidate)):\n",
        "      print(f\"{self.candidate[i]}: {self.votes[i]} votes\")\n",
        "\n"
      ],
      "metadata": {
        "id": "hNWovpBKHmjW"
      },
      "execution_count": null,
      "outputs": []
    },
    {
      "cell_type": "code",
      "source": [
        "# 사용 예시\n",
        "voting_system = VoteSystem()\n",
        "voting_system.add_candidate(\"Alice\")\n",
        "voting_system.add_candidate(\"Bob\")\n",
        "voting_system.add_candidate(\"Charlie\")\n",
        "\n",
        "voting_system.vote(\"Alice\")\n",
        "voting_system.vote(\"Alice\")\n",
        "voting_system.vote(\"Bob\")\n",
        "\n",
        "voting_system.get_results()"
      ],
      "metadata": {
        "id": "c6aW0c4tZc8W",
        "colab": {
          "base_uri": "https://localhost:8080/"
        },
        "outputId": "37f84839-a436-44ee-c59f-4b151763f3ae"
      },
      "execution_count": null,
      "outputs": [
        {
          "output_type": "stream",
          "name": "stdout",
          "text": [
            "Alice 후보가 성공적으로 등록되었습니다.\n",
            "Bob 후보가 성공적으로 등록되었습니다.\n",
            "Charlie 후보가 성공적으로 등록되었습니다.\n",
            "Alice에게 투표하였습니다.\n",
            "Alice에게 투표하였습니다.\n",
            "Bob에게 투표하였습니다.\n",
            "투표 결과:\n",
            "Alice: 2 votes\n",
            "Bob: 1 votes\n",
            "Charlie: 0 votes\n"
          ]
        }
      ]
    },
    {
      "cell_type": "markdown",
      "source": [
        "### 문제2. 은행 계좌 클래스"
      ],
      "metadata": {
        "id": "jAlpA07gH7B2"
      }
    },
    {
      "cell_type": "markdown",
      "source": [
        "- **실습 설명**\n",
        "\n",
        "  간단한 은행 계좌 관리 시스템을 위한 `BankAccount` 클래스를 구현하는 프로젝트를 시작합니다. 이 클래스는 개인의 은행 계좌 정보를 관리하고 기본적인 은행 거래 기능을 제공합니다.\n",
        "\n",
        "  `BankAccount` 클래스는 다음 정보와 기능을 제공해야 합니다:\n",
        "\n",
        "  - 계좌 번호(account number)\n",
        "  - 소유자 이름(account holder)\n",
        "  - 현재 잔액(balance)\n",
        "\n",
        "- **구현해야 할 메소드**\n",
        "\n",
        "  - `__init__`: 객체 생성 시 계좌 번호, 소유자 이름, 초기 잔액을 설정합니다.\n",
        "  - `deposit`: 계좌에 금액을 입금합니다. 입금할 금액을 인자로 받고, 잔액을 업데이트합니다.\n",
        "  - `withdraw`: 계좌에서 금액을 출금합니다. 출금할 금액을 인자로 받고, 잔액이 충분할 경우에만 출금을 허용하고 잔액을 업데이트합니다.\n",
        "  - `get_balance`: 현재 계좌 잔액을 반환합니다.\n",
        "\n",
        "- **실습 결과 예시**\n",
        "\n",
        "  - 다음과 같은 코드를 실행했을 때의 출력 예시입니다:\n",
        "\n",
        "    ```python\n",
        "    my_account = BankAccount(\"123-456-789\", \"김철수\", 100000)\n",
        "    my_account.deposit(50000)\n",
        "    my_account.withdraw(20000)\n",
        "    print(f\"현재 잔액: {my_account.get_balance()}원\")\n",
        "    ```\n",
        "\n",
        "  - 예상 출력:\n",
        "\n",
        "    ```\n",
        "    김철수님의 계좌 123-456-789가 개설되었습니다. 초기 잔액: 100000원\n",
        "    50000원이 입금되었습니다. 현재 잔액: 150000원\n",
        "    20000원이 출금되었습니다. 현재 잔액: 130000원\n",
        "    현재 잔액: 130000원\n",
        "    ```\n",
        "\n",
        "\n",
        "- **요구 사항**\n",
        "\n",
        "  - 계좌에서 출금 시도 시 잔액보다 많은 금액을 출금하려고 하면, 출금을 거부하고 경고 메시지를 출력해야 합니다.\n",
        "  - 모든 금액은 정수 또는 실수로 처리될 수 있어야 하며, 화폐 단위로만 입력받습니다.\n",
        "  - 계좌 생성, 입금, 출금 및 잔액 조회 기능을 모두 구현해야 합니다."
      ],
      "metadata": {
        "id": "AiGBIJWpH7B4"
      }
    },
    {
      "cell_type": "code",
      "source": [
        "# 문제\n",
        "class BankAccount:\n",
        "\n",
        "  def __init__(self,account_number ,account_holder, balance):\n",
        "    self.account_number = account_number\n",
        "    self.account_holder = account_holder\n",
        "    self.balance = balance\n",
        "    print(f\"{self.account_holder}님의 계좌 {self.account_number}가 개설되었습니다. 초기 잔액: {balance}원\")\n",
        "\n",
        "  def deposit(self, balance):\n",
        "    self.balance += balance\n",
        "    print(f\"{balance}원이 입금되었습니다. 현재 잔액: {self.balance}원\")\n",
        "\n",
        "  def withdraw(self, balance):\n",
        "    if self.balance >= balance:\n",
        "      self.balance -= balance\n",
        "      print(f\"{balance}원이 출금되었습니다. 현재 잔액: {self.balance}원\")\n",
        "    else:\n",
        "      print(\"잔액이 부족합니다.\")\n",
        "\n",
        "  def get_balance(self):\n",
        "    return self.balance"
      ],
      "metadata": {
        "id": "fnpMUQf7H7B5"
      },
      "execution_count": null,
      "outputs": []
    },
    {
      "cell_type": "code",
      "source": [
        "# 사용 예시\n",
        "my_account = BankAccount(\"123-456-789\", \"김철수\", 100000)\n",
        "my_account.deposit(50000)\n",
        "my_account.withdraw(20000)\n",
        "print(f\"현재 잔액: {my_account.get_balance()}원\")"
      ],
      "metadata": {
        "id": "vugx-M0TZt_G",
        "colab": {
          "base_uri": "https://localhost:8080/"
        },
        "outputId": "7cd5a51a-959f-4c0a-fd5b-357540b3c800"
      },
      "execution_count": null,
      "outputs": [
        {
          "output_type": "stream",
          "name": "stdout",
          "text": [
            "김철수님의 계좌 123-456-789가 개설되었습니다. 초기 잔액: 100000원\n",
            "50000원이 입금되었습니다. 현재 잔액: 150000원\n",
            "20000원이 출금되었습니다. 현재 잔액: 130000원\n",
            "현재 잔액: 130000원\n"
          ]
        }
      ]
    },
    {
      "cell_type": "markdown",
      "source": [
        "### 문제3. 직원 관리 클래스"
      ],
      "metadata": {
        "id": "gLGgyxNbH7JN"
      }
    },
    {
      "cell_type": "markdown",
      "source": [
        "- **실습 설명**\n",
        "\n",
        "  당신은 회사의 HR 부서에서 일하며, 회사 내 모든 직원의 급여 정보를 관리하는 시스템을 개발할 임무를 맡았습니다. 이 시스템은 직원들의 정보를 저장하고, 전체 직원의 평균 급여를 계산하는 기능을 제공해야 합니다.\n",
        "\n",
        "  `EmployeeManager` 클래스는 다음 기능을 제공해야 합니다:\n",
        "\n",
        "  - **직원 추가**: 새로운 직원의 정보를 시스템에 추가합니다. 직원의 이름과 급여 정보를 저장합니다.\n",
        "  - **급여 평균 계산**: 클래스 메서드를 사용하여 모든 직원의 급여 평균을 계산합니다. 이 메서드는 저장된 모든 직원의 급여 정보를 집계하여 평균 급여를 계산하고 출력합니다.\n",
        "\n",
        "- **구현해야 할 메소드**\n",
        "\n",
        "  - `__init__`: 직원의 이름과 급여를 초기화하고, 직원 정보를 클래스 변수에 저장합니다.\n",
        "  - `calculate_average_salary`: 클래스 메서드로 구현되며, `EmployeeManager`에 저장된 모든 직원의 급여 평균을 계산합니다.\n",
        "\n",
        "- **실습 결과 예시**\n",
        "\n",
        "  - 다음과 같은 코드를 실행했을 때의 출력 예시입니다:\n",
        "\n",
        "    ```python\n",
        "    emp1 = EmployeeManager(\"홍길동\", 50000)\n",
        "    emp2 = EmployeeManager(\"김철수\", 60000)\n",
        "\n",
        "    EmployeeManager.calculate_average_salary()\n",
        "    ```\n",
        "\n",
        "  - 예상 출력:\n",
        "\n",
        "    ```\n",
        "    홍길동 님이 추가되었습니다. 급여: 50000원\n",
        "    김철수 님이 추가되었습니다. 급여: 60000원\n",
        "    전체 직원의 평균 급여: 55000원\n",
        "    ```\n",
        "\n",
        "- **요구 사항**\n",
        "\n",
        "  - 직원 정보는 클래스 변수 `employees`에 저장되어 전체 `EmployeeManager` 인스턴스에서 접근 가능해야 합니다.\n",
        "  - `calculate_average_salary` 메서드는 저장된 모든 직원의 급여를 합산하여 평균을 출력하고, 직원이 없는 경우 0을 반환해야 합니다."
      ],
      "metadata": {
        "id": "E4YmPRZ6H7JS"
      }
    },
    {
      "cell_type": "code",
      "source": [
        "# 문제\n",
        "class EmployeeManager:\n",
        "\n",
        "  name = []\n",
        "  salary = []\n",
        "\n",
        "  def __init__(self, name, salary):\n",
        "    self.name.append(name)\n",
        "    self.salary.append(salary)\n",
        "    print(f\"{self.name} 님이 추가되었습니다. 급여: {self.salary}원\")\n",
        "\n",
        "  @classmethod\n",
        "  def calculate_average_salary(self):\n",
        "    total = 0\n",
        "    for i in self.salary:\n",
        "      total += i\n",
        "    print(f\"전체 직원의 평균 급여: {int(total / len(self.salary))}원\")\n",
        "\n",
        "\n"
      ],
      "metadata": {
        "id": "vRuY2rAXImzi"
      },
      "execution_count": null,
      "outputs": []
    },
    {
      "cell_type": "code",
      "source": [
        "# 사용 예시\n",
        "emp1 = EmployeeManager(\"홍길동\", 50000)\n",
        "emp2 = EmployeeManager(\"김철수\", 60000)\n",
        "\n",
        "EmployeeManager.calculate_average_salary()"
      ],
      "metadata": {
        "id": "_Q8vSlR8Z0Y7",
        "colab": {
          "base_uri": "https://localhost:8080/"
        },
        "outputId": "30ed3091-690f-438d-edc5-f57f726e1048"
      },
      "execution_count": null,
      "outputs": [
        {
          "output_type": "stream",
          "name": "stdout",
          "text": [
            "['홍길동'] 님이 추가되었습니다. 급여: [50000]원\n",
            "['홍길동', '김철수'] 님이 추가되었습니다. 급여: [50000, 60000]원\n",
            "전체 직원의 평균 급여: 55000원\n"
          ]
        }
      ]
    },
    {
      "cell_type": "markdown",
      "source": [
        "### 문제4. 프랜차이즈 레스토랑 관리 클래스"
      ],
      "metadata": {
        "id": "vbeAqh9rIjFc"
      }
    },
    {
      "cell_type": "markdown",
      "source": [
        "\n",
        "- **실습 설명**\n",
        "\n",
        "  당신은 여러 지점을 가진 레스토랑 체인의 IT 팀에서 일하며, 각 지점의 예약을 관리하고 중앙에서 예약 현황을 파악할 수 있는 시스템을 개발할 임무를 맡았습니다. 이 시스템은 각 지점의 예약 상황을 관리하고, 고객의 예약 요청을 효과적으로 처리할 수 있는 기능을 제공해야 합니다.\n",
        "\n",
        "  `ReservationSystem` 클래스는 각 레스토랑 지점의 예약을 관리하며, 다음 기능을 제공해야 합니다:\n",
        "\n",
        "  - **예약 추가**: 고객이 특정 지점, 예약 일시, 인원 수에 대한 예약을 요청하면 시스템에 추가합니다.\n",
        "  - **예약 취소**: 고객이 예약을 취소할 수 있으며, 해당 예약을 시스템에서 제거합니다.\n",
        "  - **예약 조회**: 특정 지점의 모든 예약 상황을 확인할 수 있습니다.\n",
        "  - **예약 집계**: 모든 지점의 예약 수를 합산합니다. 이 메서드는 모든 `ReservationSystem` 인스턴스의 예약 수를 합산하여 보여줍니다.\n",
        "\n",
        "- **구현해야 할 메소드**\n",
        "\n",
        "  - `__init__`: 레스토랑 지점의 이름을 초기화하고 예약 리스트를 관리합니다.\n",
        "  - `add_reservation`: 새로운 예약을 추가합니다. 이 메서드는 예약자 이름, 예약 일시, 인원 수를 받아 저장합니다.\n",
        "  - `list_reservations`: 현재 지점의 모든 예약 상태를 출력합니다.\n",
        "  - `sum_reservations`: 주어진 `ReservationSystem` 인스턴스 리스트에서 모든 예약 수를 합산합니다.\n",
        "\n",
        "- **실습 결과 예시**\n",
        "  \n",
        "  - 다음과 같은 코드를 실행했을 때의 출력 예시입니다:\n",
        "\n",
        "    ```python\n",
        "    restaurant1 = ReservationSystem(\"강남점\")\n",
        "    restaurant2 = ReservationSystem(\"홍대점\")\n",
        "\n",
        "    restaurant1.add_reservation(\"홍길동\", \"2024-05-20\", 4)\n",
        "    restaurant2.add_reservation(\"김철수\", \"2024-05-21\", 2)\n",
        "\n",
        "    restaurant1.list_reservations()\n",
        "    restaurant2.list_reservations()\n",
        "\n",
        "    total_reservations = ReservationSystem.sum_reservations([restaurant1, restaurant2])\n",
        "    print(f\"전체 레스토랑 예약 수: {total_reservations}\")\n",
        "    ```\n",
        "\n",
        "  - 예상 출력:\n",
        "\n",
        "    ```\n",
        "    강남점 예약 목록:\n",
        "    - 홍길동, 2024-05-20, 4명\n",
        "    홍대점 예약 목록:\n",
        "    - 김철수, 2024-05-21, 2명\n",
        "    전체 레스토랑 예약 수: 2\n",
        "    ```\n",
        "\n",
        "- **요구 사항**\n",
        "\n",
        "  - 모든 출력 메시지는 한국어로 제공되어야 합니다.\n",
        "  - 각 메서드는 적절한 입력 검증과 예외 처리를 포함해야 합니다.\n",
        "  - `sum_reservations` 클래스 메서드는 모든 지점에서의 예약 수를 효과적으로 합산하여 전체 예약 상태를 중앙에서 확인할 수 있게 합니다."
      ],
      "metadata": {
        "id": "LzZjOpGlIlYk"
      }
    },
    {
      "cell_type": "code",
      "source": [
        "# 문제\n",
        "class ReservationSystem:\n",
        "\n",
        "    all_branchs = []\n",
        "\n",
        "    def __init__(self,branch_name):\n",
        "      self.branch_name = branch_name\n",
        "      self.names = []\n",
        "      self.dates = []\n",
        "      self.person = []\n",
        "\n",
        "      ReservationSystem.all_branchs.append(self)\n",
        "\n",
        "    def add_reservation(self,name,date,people):\n",
        "      self.names.append(name)\n",
        "      self.dates.append(date)\n",
        "      self.person.append(people)\n",
        "\n",
        "\n",
        "    def list_reservations(self):\n",
        "      print(f\"{self.branch_name} 예약 목록:\")\n",
        "      for i in range(len(self.names)):\n",
        "        print(f\"- {self.names[i]}, {self.dates[i]}, {self.person[i]}명\")\n",
        "\n",
        "    def sum_reservations(all_branchs):\n",
        "      total = 0\n",
        "      for i in all_branchs:\n",
        "        total += len(i.names)\n",
        "      return total\n"
      ],
      "metadata": {
        "id": "3SEG3Jh-JBha"
      },
      "execution_count": 14,
      "outputs": []
    },
    {
      "cell_type": "code",
      "source": [
        "# 사용 예시\n",
        "restaurant1 = ReservationSystem(\"강남점\")\n",
        "restaurant2 = ReservationSystem(\"홍대점\")\n",
        "\n",
        "restaurant1.add_reservation(\"홍길동\", \"2024-05-20\", 4)\n",
        "restaurant1.add_reservation(\"시즈쿠\", \"2024-05-06\", 6)\n",
        "restaurant2.add_reservation(\"김철수\", \"2024-05-21\", 2)\n",
        "restaurant2.add_reservation(\"이치카\", \"2024-06-21\", 1)\n",
        "restaurant2.add_reservation(\"호나미\", \"2024-07-21\", 4)\n",
        "\n",
        "\n",
        "restaurant1.list_reservations()\n",
        "restaurant2.list_reservations()\n",
        "\n",
        "total_reservations = ReservationSystem.sum_reservations([restaurant1, restaurant2])\n",
        "print(f\"전체 레스토랑 예약 수: {total_reservations}\")"
      ],
      "metadata": {
        "id": "B5OAo28nZ4_z",
        "colab": {
          "base_uri": "https://localhost:8080/"
        },
        "outputId": "88c9d321-c546-4c8a-d9f5-c312b7d73b88"
      },
      "execution_count": 15,
      "outputs": [
        {
          "output_type": "stream",
          "name": "stdout",
          "text": [
            "강남점 예약 목록:\n",
            "- 홍길동, 2024-05-20, 4명\n",
            "- 시즈쿠, 2024-05-06, 6명\n",
            "홍대점 예약 목록:\n",
            "- 김철수, 2024-05-21, 2명\n",
            "- 이치카, 2024-06-21, 1명\n",
            "- 호나미, 2024-07-21, 4명\n",
            "전체 레스토랑 예약 수: 5\n"
          ]
        }
      ]
    },
    {
      "cell_type": "markdown",
      "source": [
        "# **심화 문제**\n",
        "\n",
        "심화 문제는 채점에 포함되지 않습니다. 편한 마음으로 도전해 보세요."
      ],
      "metadata": {
        "id": "bkd6-iPqJb5w"
      }
    },
    {
      "cell_type": "markdown",
      "source": [
        "## 심화(4문제)"
      ],
      "metadata": {
        "id": "mzIDKWPjWZqc"
      }
    },
    {
      "cell_type": "markdown",
      "source": [
        "### 문제1. 시간 관리 프로그램"
      ],
      "metadata": {
        "id": "sSy0kCSEJjIa"
      }
    },
    {
      "cell_type": "markdown",
      "source": [
        "- **실습 설명**\n",
        "\n",
        "  이 프로그램은 사용자가 제한된 시간 내에 최대한 많은 일을 수행할 수 있도록 돕습니다. 할 일과 각각의 소요 시간이 CSV 파일에 저장되어 있으며, 사용자는 이 데이터와 자신에게 남은 시간을 입력하여 이용할 수 있습니다. 프로그램은 사용자가 입력한 시간 내에서 가능한 최대한 많은 할 일을 선택하고, 선택된 할 일을 소요 시간이 짧은 순으로 정렬하여 출력합니다. 이를 통해 사용자는 가장 시간을 최적화하여 일정을 관리할 수 있습니다.\n",
        "\n",
        "- **기능 설명**\n",
        "  - 데이터 읽기: 사용자로부터 CSV 파일 경로를 입력받아 파일을 읽습니다. 파일은 각 할 일과 그에 소요되는 시간을 포함합니다.\n",
        "  - 할 일 선택: 사용자에게 남은 시간을 입력받습니다. 이 시간을 기준으로 할 수 있는 최대한의 할 일을 선택합니다.\n",
        "  - 결과 출력: 선택된 할 일을 소요 시간이 짧은 순으로 정렬하여 출력합니다. 출력 형식은 목록 형태로 할 일과 예상 소요 시간을 포함합니다.\n",
        "\n",
        "- **입출력 예시**\n",
        "\n",
        "    - 할 일 및 소요 시간 CSV 파일 예시 (`tasks.csv`):\n",
        "        ```\n",
        "        할일,소요시간\n",
        "        공부하기,120\n",
        "        운동하기,60\n",
        "        가계부정리,30\n",
        "        영화보기,150\n",
        "        ```\n",
        "\n",
        "    - 입력:\n",
        "        ```\n",
        "        남은 시간(분): 210\n",
        "        ```\n",
        "\n",
        "    - 출력:\n",
        "        ```\n",
        "        선택된 할 일 목록:\n",
        "        1. 가계부정리 - 예상 소요 시간: 30분\n",
        "        2. 운동하기 - 예상 소요 시간: 60분\n",
        "        3. 공부하기 - 예상 소요 시간: 120분\n",
        "        ```"
      ],
      "metadata": {
        "id": "4iGvFHpgJ5b4"
      }
    },
    {
      "cell_type": "code",
      "source": [
        "### 문제를 위한 파일 생성코드입니다. 문제를 풀기 전 이 코드를 반드시 실행해주세요.\n",
        "\n",
        "import csv\n",
        "# (시뮬레이션을 위한) 예시 파일 작성코드\n",
        "def write_tasks_to_csv(filename, tasks):\n",
        "    with open(filename, 'w', newline='') as csvfile:\n",
        "        fieldnames = ['할일', '소요시간']\n",
        "        writer = csv.DictWriter(csvfile, fieldnames=fieldnames)\n",
        "\n",
        "        writer.writeheader()\n",
        "        for task, time in tasks:\n",
        "            writer.writerow({'할일': task, '소요시간': time})\n",
        "\n",
        "# 할 일과 소요 시간 데이터\n",
        "tasks = [\n",
        "    ('공부하기', 120),\n",
        "    ('운동하기', 60),\n",
        "    ('가계부정리', 30),\n",
        "    ('영화보기', 150)\n",
        "]\n",
        "\n",
        "# CSV 파일로 저장\n",
        "write_tasks_to_csv('tasks.csv', tasks)"
      ],
      "metadata": {
        "id": "cSylWzAlJdDQ"
      },
      "execution_count": 16,
      "outputs": []
    },
    {
      "cell_type": "code",
      "source": [
        "import csv\n",
        "\n",
        "# 문제\n",
        "def load_tasks(filename):\n",
        "    pass\n",
        "\n",
        "\n",
        "def suggest_tasks(tasks, remaining_time):\n",
        "    pass\n",
        "\n",
        "\n",
        "def main():\n",
        "    pass"
      ],
      "metadata": {
        "id": "mQWxIuB3Jd46"
      },
      "execution_count": null,
      "outputs": []
    },
    {
      "cell_type": "code",
      "source": [
        "# 프로그램 실행\n",
        "if __name__ == \"__main__\":\n",
        "    main()"
      ],
      "metadata": {
        "id": "GCGyO3vSaDX-"
      },
      "execution_count": null,
      "outputs": []
    },
    {
      "cell_type": "markdown",
      "source": [
        "\n",
        "이 문제에서는 남은 시간을 최적으로 활용하는 방법을 고려하고 있습니다. 할 일을 선택하는 과정에서 간혹 같은 총 소요 시간 내에서 여러 조합의 할 일 목록을 선택할 수 있는 상황이 발생할 수 있습니다. 이러한 경우, 어떤 기준을 적용하여 할 일의 조합을 결정할까요?      \n",
        "                  \n",
        "       \n",
        "\n",
        "다음과 같은 기준들을 고려해볼 수 있습니다:   \n",
        "- 가장 많은 할 일을 포함하는 조합: 가능한 많은 다양한 활동을 하고자 할 때 선택할 수 있는 방법입니다.\n",
        "- 가장 적은 시간이 남는 조합: 가용 시간을 거의 다 쓰는 조합을 선택하여 시간을 최대한 활용하고자 할 때 선택할 수 있는 방법입니다.\n",
        "- 특정 할 일을 우선하는 조합: 개인의 선호도나 긴급도에 따라 특정 할 일을 우선적으로 포함시키는 조합을 선택할 수 있습니다.\n",
        "- 가장 많은 시간을 소모하는 할 일을 포함하는 조합: 가장 긴 시간이 필요한 할 일을 포함시켜, 일상에서 잘 못하던 일을 이번 기회에 해결하고자 할 때 선택할 수 있는 방법입니다.\n",
        "\n",
        "이러한 선택지 중에서 어떤 기준이 당신의 상황에 가장 적합한지 고민해보고, 이를 코드로 반영해보세요."
      ],
      "metadata": {
        "id": "qInOiISZLw36"
      }
    },
    {
      "cell_type": "markdown",
      "source": [
        "### 문제2. 수학 퍼즐: 소수의 합"
      ],
      "metadata": {
        "id": "ZL_5Je5tLoEK"
      }
    },
    {
      "cell_type": "markdown",
      "source": [
        "- **실습 설명**  \n",
        "  이 프로그램은 사용자로부터 어떤 수 이하의 소수의 합을 구할 것인지 입력 받아, 해당 수까지의 모든 소수의 합을 계산하여 출력합니다. 소수(prime number)는 1과 자기 자신만을 약수로 가지는 자연수를 말합니다. 소수를 찾는 방법은 자유롭게 선택할 수 있지만, 효율적인 방법을 고려하여 구현해야 합니다.\n",
        "\n",
        "- **기능 설명**\n",
        "  - 소수 판별: 주어진 수까지의 모든 자연수에 대해 소수 여부를 판별합니다. (힌트 : 에라토스테네스의 체)\n",
        "  - 소수 합 계산: 판별된 소수들의 합을 계산합니다.\n",
        "  - 결과 출력: 계산된 소수의 합을 출력합니다. 출력 형식은 사용자가 입력한 수까지의 소수 합과 그 값을 포함합니다.\n",
        "\n",
        "- **입출력 예시**\n",
        "\n",
        "  - 입력:\n",
        "\n",
        "  ```\n",
        "  어떤 수까지의 소수의 합을 구하시겠습니까?: 10\n",
        "  ```\n",
        "  - 출력:\n",
        "\n",
        "  ```\n",
        "  10 이하 소수의 합은 17입니다.\n",
        "  ```"
      ],
      "metadata": {
        "id": "1fJY0HQEL8Qv"
      }
    },
    {
      "cell_type": "code",
      "source": [
        "# 문제\n",
        "def is_prime(num):\n",
        "    pass\n",
        "\n",
        "def sum_of_primes(n):\n",
        "    pass\n",
        "\n",
        "def main():\n",
        "    pass"
      ],
      "metadata": {
        "id": "txK2vvrNLmdq"
      },
      "execution_count": null,
      "outputs": []
    },
    {
      "cell_type": "code",
      "source": [
        "# 프로그램 실행\n",
        "if __name__ == \"__main__\":\n",
        "    main()"
      ],
      "metadata": {
        "id": "Rs_Kz0wwaPc3"
      },
      "execution_count": null,
      "outputs": []
    },
    {
      "cell_type": "markdown",
      "source": [
        "### 문제3. 도서관 관리 시스템"
      ],
      "metadata": {
        "id": "pJ30RiGXSRIi"
      }
    },
    {
      "cell_type": "markdown",
      "source": [
        "\n",
        "- **실습 설명**\n",
        "\n",
        "  당신은 지역 도서관에서 시스템 개발자로 일하고 있으며, 도서관의 도서, 회원, 대여 정보를 효과적으로 관리하는 시스템을 개발할 임무를 맡았습니다. `LibraryManagement` 클래스와 여러 하위 클래스를 구현하여, 도서의 추가, 삭제, 검색, 대여 및 반납 기능을 포괄적으로 다루어야 합니다.\n",
        "\n",
        "- **시스템 구성 요소**\n",
        "\n",
        "  - **도서(Books)**: 도서 정보를 저장합니다. 각 도서는 제목, 저자, 출판년도, ISBN 등의 정보를 포함해야 합니다.\n",
        "  - **회원(Members)**: 회원 정보를 관리합니다. 각 회원은 이름, 회원번호, 대여 중인 도서 목록 등의 정보를 갖습니다.\n",
        "  - **대여 관리(Rentals)**: 도서 대여 및 반납 정보를 처리합니다. 대여 시 회원 ID와 도서 ISBN을 연결하고, 대여일 및 반납일을 기록합니다.\n",
        "\n",
        "- **구현해야 할 메소드 및 클래스**\n",
        "\n",
        "  1. **Book Class**:\n",
        "    - 도서 정보(제목, 저자, 출판년도, ISBN)를 저장하는 클래스입니다.\n",
        "    - 각 도서 객체는 고유 정보를 관리합니다.\n",
        "\n",
        "  2. **Member Class**:\n",
        "    - 회원 정보(이름, 회원번호, 대여 중인 도서 목록)를 저장하는 클래스입니다.\n",
        "    - 회원별 대여 기록을 관리합니다.\n",
        "\n",
        "  3. **Rental Class**:\n",
        "    - 대여 정보(회원 ID, 도서 ISBN, 대여일, 반납일)를 저장하는 클래스입니다.\n",
        "    - 대여 및 반납 프로세스를 처리합니다.\n",
        "\n",
        "  4. **LibraryManagement**:\n",
        "    - 도서, 회원, 대여 정보를 관리하는 메소드와 데이터 구조를 포함합니다.\n",
        "    - 도서 추가, 삭제, 검색 메소드를 구현합니다.\n",
        "    - 회원 등록, 정보 조회 메소드를 구현합니다.\n",
        "    - 대여 및 반납 프로세스를 관리하는 메소드를 구현합니다.\n",
        "\n",
        "- **예시**\n",
        "  \n",
        "  - 다음과 같은 코드를 실행했을 때의 출력 예시입니다:\n",
        "\n",
        "      ```python\n",
        "      # 도서관 관리 시스템 초기화\n",
        "      library_system = LibraryManagement()\n",
        "\n",
        "      # 도서 추가\n",
        "      library_system.add_book(\"1984\", \"조지 오웰\", 1949, \"978-0451524935\")\n",
        "      library_system.add_book(\"앵무새 죽이기\", \"하퍼 리\", 1960, \"978-0446310789\")\n",
        "      print()\n",
        "\n",
        "      # 회원 등록\n",
        "      library_system.add_member(\"홍길동\")\n",
        "      print()\n",
        "\n",
        "      # 도서 대여\n",
        "      library_system.rent_book(\"978-0451524935\", \"홍길동\")\n",
        "      print()\n",
        "\n",
        "      # 도서 정보 출력\n",
        "      library_system.print_books()\n",
        "      print()\n",
        "\n",
        "      # 회원 정보 출력\n",
        "      library_system.print_members()\n",
        "\n",
        "      # 도서 반납\n",
        "      library_system.return_book(\"978-0451524935\", \"홍길동\")\n",
        "      print()\n",
        "\n",
        "      # 회원 정보 출력\n",
        "      library_system.print_members()\n",
        "      ```\n",
        "  \n",
        "  - 출력 예시:\n",
        "    \n",
        "    ```\n",
        "    '1984' (저자: 조지 오웰, 출판년도: 1949) 도서가 추가되었습니다.\n",
        "    '앵무새 죽이기' (저자: 하퍼 리, 출판년도: 1960) 도서가 추가되었습니다.\n",
        "    회원 '홍길동'님이 등록되었습니다.\n",
        "    '홍길동' 회원님이 '1984' 도서를 대여하였습니다.\n",
        "    도서 목록:\n",
        "    - 1984 (저자: 조지 오웰, 출판년도: 1949)\n",
        "    - 앵무새 죽이기 (저자: 하퍼 리, 출판년도: 1960)\n",
        "    회원 목록:\n",
        "    - 홍길동 (대여 중인 도서: 1984)\n",
        "    '홍길동' 회원님이 '1984' 도서를 반납하였습니다.   \n",
        "    회원 목록:\n",
        "    - 홍길동 (대여 중인 도서: 없음)\n",
        "    ```\n",
        "\n",
        "- **요구 사항**\n",
        "\n",
        "  - 모든 클래스 및 메소드는 적절한 입력 검증과 예외 처리를 포함해야 합니다.\n",
        "  - 시스템은 사용자의 행동에 따라 적절한 피드백을 제공해야 합니다. (예: 도서가 없을 때, 회원 정보가 없을 때)\n"
      ],
      "metadata": {
        "id": "rVE7padZSTqv"
      }
    },
    {
      "cell_type": "code",
      "source": [
        "# 문제\n",
        "class Book:\n",
        "    pass\n",
        "\n",
        "class Member:\n",
        "    pass\n",
        "\n",
        "class Rental:\n",
        "    pass\n",
        "\n",
        "class LibraryManagement:\n",
        "    pass"
      ],
      "metadata": {
        "id": "WjiD18H0SS9e"
      },
      "execution_count": null,
      "outputs": []
    },
    {
      "cell_type": "code",
      "source": [
        "# 사용 예시\n",
        "library = LibraryManagement()\n",
        "library.add_book(\"1984\", \"조지 오웰\", 1949, \"978-0451524935\")\n",
        "library.add_book(\"앵무새 죽이기\", \"하퍼 리\", 1960, \"978-0446310789\")\n",
        "library.add_member(\"홍길동\")\n",
        "\n",
        "library.rent_book(\"978-0451524935\", \"홍길동\")\n",
        "library.print_books()\n",
        "library.print_members()\n",
        "library.return_book(\"978-0451524935\", \"홍길동\")\n",
        "library.print_members()"
      ],
      "metadata": {
        "id": "cvO4Q2-UTRiz"
      },
      "execution_count": null,
      "outputs": []
    },
    {
      "cell_type": "markdown",
      "source": [
        "심화문제를 풀고 싶으나 어디서부터 시작해야 할지 막막하다면, 이래의 단계별 개발 가이드를 참고해보세요.\n",
        "\n",
        "\n",
        "- **1단계: 기본 클래스 정의**\n",
        "  - **목표**: 도서, 회원, 대여 정보를 저장할 기본 클래스를 생성합니다.\n",
        "\n",
        "  - **주요 작업**\n",
        "    1. `Book` 클래스 생성: `__init__` 메소드에는 `title`, `author`, `publication_year`, `isbn` 파라미터를 포함시킵니다.\n",
        "    2. `Member` 클래스 생성: `__init__` 메소드에는 `name` 파라미터를 포함시키고, 대여 중인 도서 목록을 관리할 리스트를 초기화합니다.\n",
        "    3. `Rental` 클래스 생성: `__init__` 메소드에는 `book`, `member`, `rental_date`, `return_date` 파라미터를 포함시킵니다.\n",
        "\n",
        "- **2단계: 관리 시스템 클래스 구현**\n",
        "  - **목표**: 도서, 회원, 대여 정보를 관리하는 메소드를 포함하는 `LibraryManagement` 클래스를 구현합니다.\n",
        "\n",
        "  - **주요 작업**\n",
        "    1. `LibraryManagement` 클래스에 필요한 인스턴스 변수 초기화: 도서 목록, 회원 목록, 대여 목록.\n",
        "    2. 도서 추가 메소드(`add_book`) 구현.\n",
        "    3. 회원 추가 메소드(`add_member`) 구현.\n",
        "    4. 도서 대여 메소드(`rent_book`) 구현.\n",
        "    5. 도서 반납 메소드(`return_book`) 구현.\n",
        "\n",
        "- **3단계: 도서 및 회원 정보 조회 기능 추가**\n",
        "  - **목표**: 도서 및 회원 정보를 조회하고 출력하는 기능을 구현합니다.\n",
        "\n",
        "  - **주요 작업**\n",
        "    1. 도서 목록 출력 메소드(`print_books`) 구현.\n",
        "    2. 회원 목록 출력 메소드(`print_members`) 구현.\n",
        "\n",
        "- **4단계: 테스트 및 디버깅**\n",
        "  - **목표**: 관리 시스템의 테스트하여 오류를 찾고 수정합니다.\n",
        "\n",
        "  - **주요 작업**\n",
        "    1. 각 단계에서 구현한 기능을 개별적으로 테스트합니다.\n",
        "    2. 예상하지 못한 에러가 발생하면 원인을 분석하고 수정합니다.\n",
        "    3. 오류 메시지 외에 처리 과정을 확인하고 필요에 따라 수정합니다.\n"
      ],
      "metadata": {
        "id": "cM8h84fQUi_t"
      }
    }
  ]
}